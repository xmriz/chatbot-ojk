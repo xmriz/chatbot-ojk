{
 "cells": [
  {
   "cell_type": "markdown",
   "metadata": {},
   "source": [
    "# **OJKGPT**\n",
    "\n",
    "This is the Jupyter Notebook for the development of the 1st version of OJKGPT for the showcase demo capabilites to wealth team program. <br>\n",
    "In this development, we use several data sources for enriching the RAG system of the chatbot. "
   ]
  },
  {
   "cell_type": "code",
   "execution_count": 1,
   "metadata": {},
   "outputs": [],
   "source": [
    "import nest_asyncio\n",
    "nest_asyncio.apply()"
   ]
  },
  {
   "cell_type": "code",
   "execution_count": 2,
   "metadata": {},
   "outputs": [
    {
     "data": {
      "text/plain": [
       "True"
      ]
     },
     "execution_count": 2,
     "metadata": {},
     "output_type": "execute_result"
    }
   ],
   "source": [
    "from dotenv import load_dotenv\n",
    "load_dotenv()"
   ]
  },
  {
   "cell_type": "code",
   "execution_count": 3,
   "metadata": {},
   "outputs": [],
   "source": [
    "import logging\n",
    "import sys\n",
    "\n",
    "logging.basicConfig(stream=sys.stdout, level=logging.INFO)\n",
    "logging.getLogger().addHandler(logging.StreamHandler(stream=sys.stdout))"
   ]
  },
  {
   "cell_type": "code",
   "execution_count": 4,
   "metadata": {},
   "outputs": [],
   "source": [
    "from utils.models_definer import ModelName\n",
    "\n",
    "# storing or not\n",
    "OCR_TRESHOLD = 0.98\n",
    "TOP_K = 3\n",
    "NUM_BATCH_EVAL = 10\n",
    "STORE = True\n",
    "DELETE = True\n",
    "EVAL = True\n",
    "model_name = ModelName.OPENAI\n",
    "model_name_eval = ModelName.OPENAI"
   ]
  },
  {
   "cell_type": "markdown",
   "metadata": {},
   "source": [
    "## **LLM Models Define**"
   ]
  },
  {
   "cell_type": "code",
   "execution_count": 5,
   "metadata": {},
   "outputs": [],
   "source": [
    "from llama_index.core import Settings\n",
    "from utils.models_definer import get_llm_and_embedding\n",
    "\n",
    "# ollama/openai/azure_openai\n",
    "llm, embedding_llm = get_llm_and_embedding(model_name=model_name)\n",
    "\n",
    "llm_eval = get_llm_and_embedding(model_name=model_name_eval)[0]\n",
    "\n",
    "\n",
    "Settings.llm = llm\n",
    "Settings.embed_model = embedding_llm"
   ]
  },
  {
   "cell_type": "markdown",
   "metadata": {},
   "source": [
    "## **Loading Documents**"
   ]
  },
  {
   "cell_type": "markdown",
   "metadata": {},
   "source": [
    "### **Document Reader and Node Parser**"
   ]
  },
  {
   "cell_type": "code",
   "execution_count": 6,
   "metadata": {},
   "outputs": [
    {
     "name": "stdout",
     "output_type": "stream",
     "text": [
      "MuPDF error: format error: cmsOpenProfileFromMem failed\n",
      "\n",
      "Read 9 documents\n"
     ]
    }
   ],
   "source": [
    "from utils.documents_reader import read_documents\n",
    "from utils.node_parser import parse_nodes\n",
    "\n",
    "path = './data'\n",
    "\n",
    "if STORE:\n",
    "    docs = read_documents(path=path, ocr_treshold=OCR_TRESHOLD)\n",
    "    nodes = parse_nodes(documents=docs, llm=llm)"
   ]
  },
  {
   "cell_type": "markdown",
   "metadata": {},
   "source": [
    "## **Indexing & Storing**"
   ]
  },
  {
   "cell_type": "code",
   "execution_count": 7,
   "metadata": {},
   "outputs": [
    {
     "name": "stdout",
     "output_type": "stream",
     "text": [
      "Deleted 35 index from the collection.\n"
     ]
    },
    {
     "name": "stderr",
     "output_type": "stream",
     "text": [
      "Generating embeddings: 100%|██████████| 35/35 [00:08<00:00,  4.36it/s]\n"
     ]
    },
    {
     "name": "stdout",
     "output_type": "stream",
     "text": [
      "Storing the vector index completed.\n"
     ]
    },
    {
     "name": "stderr",
     "output_type": "stream",
     "text": [
      "Summarizing documents:   0%|          | 0/9 [00:00<?, ?it/s]"
     ]
    },
    {
     "name": "stdout",
     "output_type": "stream",
     "text": [
      "current doc id: 34c456a8-52db-415a-b4f0-f9840aac5b6c\n"
     ]
    },
    {
     "name": "stderr",
     "output_type": "stream",
     "text": [
      "Summarizing documents:  11%|█         | 1/9 [00:03<00:25,  3.15s/it]"
     ]
    },
    {
     "name": "stdout",
     "output_type": "stream",
     "text": [
      "current doc id: 8a53f961-bc98-4d60-9028-85b07e5e9f03\n"
     ]
    },
    {
     "name": "stderr",
     "output_type": "stream",
     "text": [
      "Summarizing documents:  22%|██▏       | 2/9 [00:05<00:19,  2.76s/it]"
     ]
    },
    {
     "name": "stdout",
     "output_type": "stream",
     "text": [
      "current doc id: 9938483a-bff7-4298-8007-57a02442ef07\n"
     ]
    },
    {
     "name": "stderr",
     "output_type": "stream",
     "text": [
      "Summarizing documents:  33%|███▎      | 3/9 [00:09<00:19,  3.23s/it]"
     ]
    },
    {
     "name": "stdout",
     "output_type": "stream",
     "text": [
      "current doc id: 2963e847-2752-48b3-8c40-6d0000412baf\n"
     ]
    },
    {
     "name": "stderr",
     "output_type": "stream",
     "text": [
      "Summarizing documents:  44%|████▍     | 4/9 [00:12<00:16,  3.33s/it]"
     ]
    },
    {
     "name": "stdout",
     "output_type": "stream",
     "text": [
      "current doc id: 0d8a53c8-ce8b-4b45-bbbd-6ac7b0f15f05\n"
     ]
    },
    {
     "name": "stderr",
     "output_type": "stream",
     "text": [
      "Summarizing documents:  56%|█████▌    | 5/9 [00:16<00:13,  3.50s/it]"
     ]
    },
    {
     "name": "stdout",
     "output_type": "stream",
     "text": [
      "current doc id: a823c682-27fe-48d3-8d62-a546d6bb1951\n"
     ]
    },
    {
     "name": "stderr",
     "output_type": "stream",
     "text": [
      "Summarizing documents:  67%|██████▋   | 6/9 [00:20<00:10,  3.49s/it]"
     ]
    },
    {
     "name": "stdout",
     "output_type": "stream",
     "text": [
      "current doc id: fbb99130-4650-47de-b9b2-7ada4cf5a4ec\n"
     ]
    },
    {
     "name": "stderr",
     "output_type": "stream",
     "text": [
      "Summarizing documents:  78%|███████▊  | 7/9 [00:23<00:06,  3.36s/it]"
     ]
    },
    {
     "name": "stdout",
     "output_type": "stream",
     "text": [
      "current doc id: 15256ed5-0541-4d7f-9da9-33862d05767a\n"
     ]
    },
    {
     "name": "stderr",
     "output_type": "stream",
     "text": [
      "Summarizing documents:  89%|████████▉ | 8/9 [00:26<00:03,  3.16s/it]"
     ]
    },
    {
     "name": "stdout",
     "output_type": "stream",
     "text": [
      "current doc id: 849dc112-4422-401b-b09d-c7453c2a6a70\n"
     ]
    },
    {
     "name": "stderr",
     "output_type": "stream",
     "text": [
      "Summarizing documents: 100%|██████████| 9/9 [00:29<00:00,  3.30s/it]\n",
      "Generating embeddings: 100%|██████████| 9/9 [00:01<00:00,  7.90it/s]"
     ]
    },
    {
     "name": "stdout",
     "output_type": "stream",
     "text": [
      "Storing the summary index completed.\n"
     ]
    },
    {
     "name": "stderr",
     "output_type": "stream",
     "text": [
      "\n"
     ]
    }
   ],
   "source": [
    "from utils.index_store import (store_vector_index, load_vector_index, store_summary_index, load_summary_index)\n",
    "\n",
    "# store\n",
    "if STORE:\n",
    "    vector_index = store_vector_index(nodes=nodes,embed_model=embedding_llm, delete=DELETE)\n",
    "    summary_index = store_summary_index(nodes=nodes,llm=llm, delete=DELETE,embed_model=embedding_llm)\n",
    "# load\n",
    "else:\n",
    "    vector_index = load_vector_index()\n",
    "    summary_index = load_summary_index()"
   ]
  },
  {
   "cell_type": "markdown",
   "metadata": {},
   "source": [
    "## **Querying**"
   ]
  },
  {
   "cell_type": "markdown",
   "metadata": {},
   "source": [
    "### **Retriever**"
   ]
  },
  {
   "cell_type": "code",
   "execution_count": 8,
   "metadata": {},
   "outputs": [],
   "source": [
    "from llama_index.core.indices.document_summary import (\n",
    "    DocumentSummaryIndexLLMRetriever\n",
    ")\n",
    "from llama_index.core.retrievers import RecursiveRetriever\n",
    "\n",
    "vector_retriever = vector_index.as_retriever(similarity_top_k=TOP_K)\n",
    "\n",
    "recursive_retriever = RecursiveRetriever(\n",
    "    \"vector\",\n",
    "    retriever_dict={\"vector\": vector_retriever}\n",
    ")\n",
    "\n",
    "summary_retriever = DocumentSummaryIndexLLMRetriever(\n",
    "    index=summary_index,\n",
    "    choice_top_k=TOP_K,\n",
    "    llm=llm,\n",
    ")"
   ]
  },
  {
   "cell_type": "markdown",
   "metadata": {},
   "source": [
    "### **Query Engine**"
   ]
  },
  {
   "cell_type": "code",
   "execution_count": 9,
   "metadata": {},
   "outputs": [],
   "source": [
    "from llama_index.core.query_engine import RetrieverQueryEngine\n",
    "from llama_index.core import get_response_synthesizer\n",
    "import time\n",
    "\n",
    "vector_query_engine = RetrieverQueryEngine.from_args(retriever=recursive_retriever,llm=llm)\n",
    "\n",
    "response_synthesizer = get_response_synthesizer(response_mode=\"tree_summarize\")\n",
    "list_query_engine = RetrieverQueryEngine.from_args(retriever=summary_retriever,llm=llm_eval)\n",
    "\n",
    "time.sleep(2)"
   ]
  },
  {
   "cell_type": "code",
   "execution_count": 10,
   "metadata": {},
   "outputs": [],
   "source": [
    "a = \"Apa judul peraturan 7/33/PBI/2005?\" # Pencabutan atas Peraturan Bank Indonesia Nomor 5/17/PBI/2003 tentang Persyaratan dan Tata Cara Pelaksanaan Jaminan Pemerintah terhadap Kewajiban Pembayaran Bank Perkreditan Rakyat\n",
    "b = \"Kapan surat edaran No. 15/26/DPbS mulai berlaku?\" # 1 Agustus 2013.\n",
    "c = \"Siapa nama dan jabatannya yang menandatangani surat dengan nomor 1/SEOJK.04/2013?\" # NURHAIDA, kepala eksekutif pengawas pasar modal\n",
    "d = \"Saya ingin menyelenggarakan kegiatan pasar modal berikan saya nomor surat yang membahas mengenai hal ini!\" # Peraturan Pemerintah Nomor 12 Tahun 2004\n",
    "e = \"Berapa persen jaminan moneter pada tanggal 20 Agustus 1958?\" # 7,3%\n",
    "f = \"Surat edaran nomor berapa yang mengatur bank umum syariah dan unit usaha syariah?\" # 15/26/DPbS\n",
    "g = \"Apa kepanjangan dari PAPSI?\" # Pedoman Akuntansi Perbankan Syariah Indonesia\n",
    "h = \"apa judul peraturan nomor 112/KMK.03/2001?\" # Keputusan Menteri Keuangan tentang Pemotongan Pajak Penghasil Pasal 21 atas Penghasilan berupa Uang Pesangon, Uang Tebusan Pensiun, dan Tunjangan Hari Tua atau Jaminan Hari Tua\n",
    "i = \"Saya ingin membuat sistem informasi lembaga jasa keuangan, berikan nomor regulasi dari peraturan yang membahas tentang manejemen risiko nya!\" # 4/POJK.05/2021\n",
    "j = \"Apa kepanjangan dari SWDKLLJ?\" # Sumbangan Wajib Dana Kecelakaan Lalu Lintas Jalan\n",
    "k = \"Berapa nilai SWDKLLJ mobil sedan?\" # Rp. 140.000\n",
    "l = \"Apa latar belakang dari peraturan NOMOR 4/POJK.05/2021?\" # dalam bentuk list\n",
    "m = \"Apa itu LJKNB?\" # Lembaga Jasa Keuangan Non Bank\n",
    "n = \"Apakah KMK Nomor 462/KMK.04/1998 masih berlaku\" # tidak\n",
    "o = \"Apa itu Uang Pesangon?\" # penghasilan yang dibayarkan oleh pemberi kerja kepada karyawan dengan nama dan dalam bentuk apapun sehubungan dengan berakhirnya masa kerja atau terjadi pemutusan  hubungan kerja, termasuk uang penghargaan masa kerja dan uang  ganti kerugian\n",
    "p = \"Apa itu CKPN?\" # Cadangan Kerugian Penurunan Nilai.\n",
    "q = \"Kapan, dimana, dan oleh siapa surat nomor PER- 06/BL/2012 ditetapkan?\" # Surat nomor PER-06/BL/2012 ditetapkan pada tanggal 22 November 2012 di Jakarta oleh Ketua Badan Pengawas Pasar Modal dan Lembaga Keuangan.\n",
    "r = \"Apa kepanjangan PSAK?\" # Pernyataan Standar Akuntansi Keuangan\n",
    "s = \"Apa itu 'shahibul maal'?\" # Pemilik dana pihak ketiga\n",
    "\n",
    "query_str = b"
   ]
  },
  {
   "cell_type": "code",
   "execution_count": 11,
   "metadata": {},
   "outputs": [
    {
     "data": {
      "text/markdown": [
       "**`Final Response:`** Surat edaran No. 15/26/DPbS mulai berlaku pada tanggal 10 Juli 2013."
      ],
      "text/plain": [
       "<IPython.core.display.Markdown object>"
      ]
     },
     "metadata": {},
     "output_type": "display_data"
    }
   ],
   "source": [
    "from llama_index.core.response.notebook_utils import display_response\n",
    "\n",
    "response_vector = vector_query_engine.query(query_str)\n",
    "display_response(response_vector)"
   ]
  },
  {
   "cell_type": "code",
   "execution_count": 12,
   "metadata": {},
   "outputs": [
    {
     "data": {
      "text/markdown": [
       "**`Final Response:`** Surat edaran No. 15/26/DPbS mulai berlaku pada tanggal 1 Agustus 2013."
      ],
      "text/plain": [
       "<IPython.core.display.Markdown object>"
      ]
     },
     "metadata": {},
     "output_type": "display_data"
    }
   ],
   "source": [
    "response_summary = list_query_engine.query(query_str)\n",
    "display_response(response_summary)"
   ]
  },
  {
   "cell_type": "markdown",
   "metadata": {},
   "source": [
    "## **Evaluation**"
   ]
  },
  {
   "cell_type": "code",
   "execution_count": 13,
   "metadata": {},
   "outputs": [],
   "source": [
    "import os\n",
    "\n",
    "# check directory exist\n",
    "if not os.path.exists(\"./json_data\"):\n",
    "    os.makedirs(\"./json_data\")"
   ]
  },
  {
   "cell_type": "code",
   "execution_count": 14,
   "metadata": {},
   "outputs": [
    {
     "name": "stderr",
     "output_type": "stream",
     "text": [
      "100%|██████████| 35/35 [01:13<00:00,  2.10s/it]\n"
     ]
    }
   ],
   "source": [
    "from llama_index.core.evaluation import (\n",
    "    generate_question_context_pairs,\n",
    "    EmbeddingQAFinetuneDataset,\n",
    ")\n",
    "if EVAL:\n",
    "    if STORE:\n",
    "        qa_dataset = generate_question_context_pairs(\n",
    "            nodes=nodes,\n",
    "            llm=llm_eval,\n",
    "            num_questions_per_chunk=2,\n",
    "        )\n",
    "        qa_dataset.save_json(\"./json_data/pg_eval_dataset.json\")\n",
    "    else:\n",
    "        qa_dataset = EmbeddingQAFinetuneDataset.from_json(\"./json_data/pg_eval_dataset.json\")"
   ]
  },
  {
   "cell_type": "markdown",
   "metadata": {},
   "source": [
    "### **Retrieval Evaluation**"
   ]
  },
  {
   "cell_type": "code",
   "execution_count": 15,
   "metadata": {},
   "outputs": [],
   "source": [
    "metrics = [\"hit_rate\", \"mrr\", \"precision\", \"recall\", \"ap\", \"ndcg\"]"
   ]
  },
  {
   "cell_type": "code",
   "execution_count": 16,
   "metadata": {},
   "outputs": [
    {
     "data": {
      "text/html": [
       "<div>\n",
       "<style scoped>\n",
       "    .dataframe tbody tr th:only-of-type {\n",
       "        vertical-align: middle;\n",
       "    }\n",
       "\n",
       "    .dataframe tbody tr th {\n",
       "        vertical-align: top;\n",
       "    }\n",
       "\n",
       "    .dataframe thead th {\n",
       "        text-align: right;\n",
       "    }\n",
       "</style>\n",
       "<table border=\"1\" class=\"dataframe\">\n",
       "  <thead>\n",
       "    <tr style=\"text-align: right;\">\n",
       "      <th></th>\n",
       "      <th>retrievers</th>\n",
       "      <th>hit_rate</th>\n",
       "      <th>mrr</th>\n",
       "      <th>precision</th>\n",
       "      <th>recall</th>\n",
       "      <th>ap</th>\n",
       "      <th>ndcg</th>\n",
       "    </tr>\n",
       "  </thead>\n",
       "  <tbody>\n",
       "    <tr>\n",
       "      <th>0</th>\n",
       "      <td>Top-3 Eval</td>\n",
       "      <td>0.9</td>\n",
       "      <td>0.707143</td>\n",
       "      <td>0.3</td>\n",
       "      <td>0.9</td>\n",
       "      <td>0.707143</td>\n",
       "      <td>0.355228</td>\n",
       "    </tr>\n",
       "  </tbody>\n",
       "</table>\n",
       "</div>"
      ],
      "text/plain": [
       "   retrievers  hit_rate       mrr  precision  recall        ap      ndcg\n",
       "0  Top-3 Eval       0.9  0.707143        0.3     0.9  0.707143  0.355228"
      ]
     },
     "metadata": {},
     "output_type": "display_data"
    }
   ],
   "source": [
    "from utils.evaluator import get_retrieval_eval_df\n",
    "\n",
    "if EVAL:\n",
    "    vector_retrieval_eval_results = await get_retrieval_eval_df(name=f\"Top-{TOP_K} Eval\", metrics=metrics, retriever=vector_retriever, qa_dataset=qa_dataset)\n",
    "    display(vector_retrieval_eval_results)"
   ]
  },
  {
   "cell_type": "markdown",
   "metadata": {},
   "source": [
    "### **Response Evaluation**"
   ]
  },
  {
   "cell_type": "code",
   "execution_count": 17,
   "metadata": {},
   "outputs": [],
   "source": [
    "from llama_index.core.evaluation import (\n",
    "    FaithfulnessEvaluator,\n",
    "    RelevancyEvaluator,\n",
    ")\n",
    "\n",
    "if EVAL:\n",
    "    # model for evaluation\n",
    "    relevancy_evaluator = RelevancyEvaluator(llm=llm_eval)\n",
    "    faithfullness_evaluator = FaithfulnessEvaluator(llm=llm_eval)"
   ]
  },
  {
   "cell_type": "markdown",
   "metadata": {},
   "source": [
    "#### **Faithfulness Evaluator**"
   ]
  },
  {
   "cell_type": "markdown",
   "metadata": {},
   "source": [
    "Evaluate Response"
   ]
  },
  {
   "cell_type": "code",
   "execution_count": 18,
   "metadata": {},
   "outputs": [
    {
     "data": {
      "text/html": [
       "<style type=\"text/css\">\n",
       "#T_20e95_row0_col1, #T_20e95_row0_col2 {\n",
       "  inline-size: 600px;\n",
       "  overflow-wrap: break-word;\n",
       "}\n",
       "</style>\n",
       "<table id=\"T_20e95\">\n",
       "  <thead>\n",
       "    <tr>\n",
       "      <th class=\"blank level0\" >&nbsp;</th>\n",
       "      <th id=\"T_20e95_level0_col0\" class=\"col_heading level0 col0\" >Query</th>\n",
       "      <th id=\"T_20e95_level0_col1\" class=\"col_heading level0 col1\" >Response</th>\n",
       "      <th id=\"T_20e95_level0_col2\" class=\"col_heading level0 col2\" >Source</th>\n",
       "      <th id=\"T_20e95_level0_col3\" class=\"col_heading level0 col3\" >Evaluation Result</th>\n",
       "      <th id=\"T_20e95_level0_col4\" class=\"col_heading level0 col4\" >Reasoning</th>\n",
       "    </tr>\n",
       "  </thead>\n",
       "  <tbody>\n",
       "    <tr>\n",
       "      <th id=\"T_20e95_level0_row0\" class=\"row_heading level0 row0\" >0</th>\n",
       "      <td id=\"T_20e95_row0_col0\" class=\"data row0 col0\" >Kapan surat edaran No. 15/26/DPbS mulai berlaku?</td>\n",
       "      <td id=\"T_20e95_row0_col1\" class=\"data row0 col1\" >Surat edaran No. 15/26/DPbS mulai berlaku pada tanggal 10 Juli 2013.</td>\n",
       "      <td id=\"T_20e95_row0_col2\" class=\"data row0 col2\" >spesifik, Bank wajib menyampaikan rencana tindak (action plan)  \n",
       "yang akan dilakukan. \n",
       "D. \n",
       "Ketentuan mengenai estimasi penurunan nilai pembiayaan secara \n",
       "kolektif sebagaimana dimaksud dalam huruf B, merupakan acuan \n",
       "bagi Bank Syariah dalam menyusun dan menyajikan laporan \n",
       "keuangan serta menjadi acuan bagi Akuntan Publik dalam \n",
       "melakukan pemeriksaan laporan keuangan Bank Syariah. \n",
       "E. \n",
       "Hal-hal yang harus dilakukan oleh Akuntan Publik dalam \n",
       "pemeriksaan atas estimasi penurunan nilai kolektif adalah sebagai \n",
       "berikut: \n",
       "1. Dalam pelaksanaan audit, Akuntan Publik bertanggung jawab \n",
       "untuk: \n",
       "a. \n",
       "menilai kewajaran penilaian sendiri (self-assessment) yang \n",
       "dilakukan \n",
       "oleh \n",
       "manajemen \n",
       "Bank \n",
       "Syariah \n",
       "dalam \n",
       "menetapkan \n",
       "keberadaan \n",
       "kondisi \n",
       "keterbatasan \n",
       "pengalaman kerugian spesifik sebagaimana dimaksud \n",
       "dalam Lampiran Surat Edaran Bank Indonesia ini; dan \n",
       "b. \n",
       "menilai kewajaran estimasi oleh manajemen Bank Syariah \n",
       "dalam menentukan penurunan nilai pembiayaan secara \n",
       "kolektif. \n",
       "2. Apabila dalam pelak...</td>\n",
       "      <td id=\"T_20e95_row0_col3\" class=\"data row0 col3\" >Pass</td>\n",
       "      <td id=\"T_20e95_row0_col4\" class=\"data row0 col4\" >YES</td>\n",
       "    </tr>\n",
       "  </tbody>\n",
       "</table>\n"
      ],
      "text/plain": [
       "<pandas.io.formats.style.Styler at 0x1ab586e7040>"
      ]
     },
     "metadata": {},
     "output_type": "display_data"
    },
    {
     "data": {
      "text/html": [
       "<style type=\"text/css\">\n",
       "#T_08ce6_row0_col1, #T_08ce6_row0_col2 {\n",
       "  inline-size: 600px;\n",
       "  overflow-wrap: break-word;\n",
       "}\n",
       "</style>\n",
       "<table id=\"T_08ce6\">\n",
       "  <thead>\n",
       "    <tr>\n",
       "      <th class=\"blank level0\" >&nbsp;</th>\n",
       "      <th id=\"T_08ce6_level0_col0\" class=\"col_heading level0 col0\" >Query</th>\n",
       "      <th id=\"T_08ce6_level0_col1\" class=\"col_heading level0 col1\" >Response</th>\n",
       "      <th id=\"T_08ce6_level0_col2\" class=\"col_heading level0 col2\" >Source</th>\n",
       "      <th id=\"T_08ce6_level0_col3\" class=\"col_heading level0 col3\" >Evaluation Result</th>\n",
       "      <th id=\"T_08ce6_level0_col4\" class=\"col_heading level0 col4\" >Reasoning</th>\n",
       "    </tr>\n",
       "  </thead>\n",
       "  <tbody>\n",
       "    <tr>\n",
       "      <th id=\"T_08ce6_level0_row0\" class=\"row_heading level0 row0\" >0</th>\n",
       "      <td id=\"T_08ce6_row0_col0\" class=\"data row0 col0\" >Kapan surat edaran No. 15/26/DPbS mulai berlaku?</td>\n",
       "      <td id=\"T_08ce6_row0_col1\" class=\"data row0 col1\" >Surat edaran No. 15/26/DPbS mulai berlaku pada tanggal 1 Agustus 2013.</td>\n",
       "      <td id=\"T_08ce6_row0_col2\" class=\"data row0 col2\" >No. 15/26/DPbS  \n",
       " \n",
       " \n",
       " \n",
       "     Jakarta, 10  Juli  2013    \n",
       " \n",
       " \n",
       "S U R A T    E D A R A N \n",
       " \n",
       "Kepada \n",
       "SEMUA BANK UMUM SYARIAH DAN UNIT USAHA SYARIAH  \n",
       "DI INDONESIA \n",
       " \n",
       "Perihal :  \n",
       "Pelaksanaan Pedoman Akuntansi Perbankan Syariah \n",
       "Indonesia. \n",
       " \n",
       "     \n",
       "Sehubungan \n",
       "dengan \n",
       "Peraturan \n",
       "Bank \n",
       "Indonesia \n",
       "Nomor \n",
       "14/14/PBI/2012 tentang Transparansi dan Publikasi Laporan Bank \n",
       "(Lembaran Negara Republik Indonesia Tahun 2012 Nomor 199, Tambahan \n",
       "Lembaran Negara Republik Indonesia Tahun 2012 Nomor 5353), perlu \n",
       "diatur ketentuan mengenai pelaksanaan pedoman akuntansi perbankan \n",
       "syariah Indonesia dalam Surat Edaran Bank Indonesia sebagai berikut:  \n",
       "I. \n",
       "KETENTUAN UMUM \n",
       "A. \n",
       "Dalam rangka peningkatan transparansi kondisi keuangan bagi \n",
       "Bank Umum Syariah dan Unit Usaha Syariah, selanjutnya disebut \n",
       "Bank Syariah, dan penyusunan laporan keuangan yang relevan, \n",
       "komprehensif, andal dan dapat diperbandingkan, Bank Syariah \n",
       "menyusun \n",
       "dan \n",
       "menyajikan \n",
       "laporan \n",
       "keuangan \n",
       "berdasarkan \n",
       "Pernyataan Standar Akuntansi Keuangan ...</td>\n",
       "      <td id=\"T_08ce6_row0_col3\" class=\"data row0 col3\" >Pass</td>\n",
       "      <td id=\"T_08ce6_row0_col4\" class=\"data row0 col4\" >YES</td>\n",
       "    </tr>\n",
       "  </tbody>\n",
       "</table>\n"
      ],
      "text/plain": [
       "<pandas.io.formats.style.Styler at 0x1ab587d8a00>"
      ]
     },
     "metadata": {},
     "output_type": "display_data"
    }
   ],
   "source": [
    "from utils.evaluator import get_response_eval_df\n",
    "\n",
    "if EVAL:\n",
    "    vector_faithfullness_eval_result = faithfullness_evaluator.evaluate_response(response=response_vector, query=query_str)\n",
    "    summary_faithfullness_eval_result = faithfullness_evaluator.evaluate_response(response=response_summary, query=query_str)\n",
    "    display(get_response_eval_df(query=query_str, response=response_vector, eval_result=vector_faithfullness_eval_result))\n",
    "    display(get_response_eval_df(query=query_str, response=response_summary, eval_result=summary_faithfullness_eval_result))"
   ]
  },
  {
   "cell_type": "markdown",
   "metadata": {},
   "source": [
    "Evaluate Source Nodes"
   ]
  },
  {
   "cell_type": "code",
   "execution_count": 19,
   "metadata": {},
   "outputs": [
    {
     "data": {
      "text/html": [
       "<style type=\"text/css\">\n",
       "#T_1eed6_row0_col0, #T_1eed6_row1_col0, #T_1eed6_row2_col0 {\n",
       "  inline-size: 600px;\n",
       "  overflow-wrap: break-word;\n",
       "}\n",
       "</style>\n",
       "<table id=\"T_1eed6\">\n",
       "  <thead>\n",
       "    <tr>\n",
       "      <th class=\"blank level0\" >&nbsp;</th>\n",
       "      <th id=\"T_1eed6_level0_col0\" class=\"col_heading level0 col0\" >Source</th>\n",
       "      <th id=\"T_1eed6_level0_col1\" class=\"col_heading level0 col1\" >Metadata</th>\n",
       "      <th id=\"T_1eed6_level0_col2\" class=\"col_heading level0 col2\" >Eval Result</th>\n",
       "    </tr>\n",
       "  </thead>\n",
       "  <tbody>\n",
       "    <tr>\n",
       "      <th id=\"T_1eed6_level0_row0\" class=\"row_heading level0 row0\" >0</th>\n",
       "      <td id=\"T_1eed6_row0_col0\" class=\"data row0 col0\" >spesifik, Bank wajib menyampaikan rencana tindak (action plan)  \n",
       "yang akan dilakukan. \n",
       "D. \n",
       "Ketentuan mengenai estimasi penurunan nilai pembiayaan secara \n",
       "kolektif sebagaimana dimaksud dalam huruf B, merupakan acuan \n",
       "bagi Bank Syariah dalam menyusun dan menyajikan laporan \n",
       "keuangan serta menjadi acuan bagi Akuntan Publik dalam \n",
       "melakukan pemeriksaan laporan keuangan Bank Syariah. \n",
       "E. \n",
       "Hal-hal yang harus dilakukan oleh Akuntan Publik dalam \n",
       "pemeriksaan atas estimasi penurunan nilai kolektif adalah sebagai \n",
       "berikut: \n",
       "1. Dalam pelaksanaan audit, Akuntan Publik bertanggung jawab \n",
       "untuk: \n",
       "a. \n",
       "menilai kewajaran penilaian sendiri (self-assessment) yang \n",
       "dilakukan \n",
       "oleh \n",
       "manajemen \n",
       "Bank \n",
       "Syariah \n",
       "dalam \n",
       "menetapkan \n",
       "keberadaan \n",
       "kondisi \n",
       "keterbatasan \n",
       "pengalaman kerugian spesifik sebagaimana dimaksud \n",
       "dalam Lampiran Surat Edaran Bank Indonesia ini; dan \n",
       "b. \n",
       "menilai kewajaran estimasi oleh manajemen Bank Syariah \n",
       "dalam menentukan penurunan nilai pembiayaan secara \n",
       "kolektif. \n",
       "2. Apabila dalam pelaksanaan audit, Akuntan Publik menemukan \n",
       "bahwa Bank Syariah tidak berada dalam kondisi keterbatasan \n",
       "pengalaman kerugian spesifik namun menerapkan estimasi \n",
       "penurunan nilai pembiayaan secara kolektif maka Bank \n",
       "Syariah dinilai tidak menerapkan PSAK 55 beserta pedoman \n",
       "pelaksanaannya dan melanggar Surat Edaran Bank Indonesia \n",
       "ini. \n",
       "3. Temuan Akuntan Publik sebagaimana dimaksud dalam angka \n",
       "2 harus diungkapkan oleh Akuntan Publik dalam laporan hasil \n",
       "audit dan Surat Komentar (Management Letter) dan wajib \n",
       "disampaikan kepada Bank Indonesia sebagaimana diatur \n",
       "dalam ketentuan Bank Indonesia yang mengatur mengenai \n",
       "transparansi kondisi keuangan bank. \n",
       "F. Dalam … \n",
       "\n",
       "\n",
       "F. \n",
       "Dalam rangka memberikan informasi yang lebih transparan kepada \n",
       "masyarakat dan pengguna laporan keuangan Bank, Bank Syariah \n",
       "yang menerapkan estimasi penurunan nilai pembiayaan secara \n",
       "kolektif wajib mengungkapkan informasi tersebut dalam Catatan \n",
       "atas Laporan Keuangan dalam Laporan Tahunan sebagaimana \n",
       "diatur dalam Surat Edaran Bank Indonesia mengenai laporan \n",
       "tahunan bank umum. \n",
       "VI. KETENTUAN PENUTUP \n",
       "Dengan berlakunya Surat Edaran Bank Indonesia ini, Surat Edaran \n",
       "Bank Indonesia Nomor 5/26/BPS tanggal 27 Oktober 2003 perihal \n",
       "Pelaksanaan \n",
       "Pedoman \n",
       "Akuntansi \n",
       "Perbankan \n",
       "Syariah \n",
       "Indonesia \n",
       "dinyatakan tidak berlaku bagi Bank Umum Syariah dan Unit Usaha \n",
       "Syariah. \n",
       " \n",
       "Surat  Edaran  Bank  Indonesia  ini  mulai  berlaku  pada  tanggal 1 \n",
       "Agustus 2013.   \n",
       " \n",
       "Agar setiap orang mengetahuinya, memerintahkan pengumuman \n",
       "Surat Edaran Bank Indonesia ini dengan penempatannya dalam Berita \n",
       "Negara Republik Indonesia. \n",
       " \n",
       "Demikian agar Saudara maklum. \n",
       " \n",
       "BANK INDONESIA, \n",
       " \n",
       " \n",
       " \n",
       "HALIM ALAMSYAH  \n",
       "DEPUTI GUBERNUR \n",
       " \n",
       "DPbS</td>\n",
       "      <td id=\"T_1eed6_row0_col1\" class=\"data row0 col1\" >{'file_name': 'ojk-sebi-15_26_dpbs-10072013-sebi_perihal_pelaksanaan_pedoman_akuntansi_perbankan_syariah_indonesia_sebi_26_pdf.pdf', 'title': 'Surat Edaran Bank Indonesia perihal Pelaksanaan Pedoman Akuntansi Perbankan Syariah Indonesia', 'sector': 'Perbankan', 'subsector': 'Perbankan Syariah', 'regulation_type': 'SEBI', 'regulation_number': '15/26/DPbS', 'effective_date': '10 Juli 2013'}</td>\n",
       "      <td id=\"T_1eed6_row0_col2\" class=\"data row0 col2\" >Fail</td>\n",
       "    </tr>\n",
       "    <tr>\n",
       "      <th id=\"T_1eed6_level0_row1\" class=\"row_heading level0 row1\" >1</th>\n",
       "      <td id=\"T_1eed6_row1_col0\" class=\"data row1 col0\" >juta rupiah) sampai dengan Rp 100.000.000,00 (seratus juta \n",
       "rupiah) sebesar 10% (sepuluh persen);  \n",
       " \n",
       "  \n",
       "d.  penghasilan bruto di atas Rp 100.000.000,00 (seratus juta \n",
       "rupiah) sampai dengan Rp 200.000.000,00 (dua ratus juta \n",
       "rupiah) sebesar 15% (lima belas persen);  \n",
       " \n",
       "  \n",
       "e.  penghasilan bruto di atas Rp 200.000.000,00 (dua ratus juta \n",
       "rupiah) sebesar 25% (dua puliuh lima belas persen); \n",
       " \n",
       " \n",
       " \n",
       "Pasal  3 \n",
       "Pada saat Keputusan Menteri Keuangan ini mulai berlaku, Keputusan \n",
       "Menteri Keuangan Nomor 462/KMK.04/1998 dinyatakan tidak berlaku.\n",
       "Pasal  4 \n",
       "Keputusan ini mulai berlaku tanggal 1 Januari 2001. \n",
       "Agar setiap orang mengetahuinya, memerintahkan pengumuman \n",
       "Keputusan Menteri Keuangan ini dengan penempatannya dalam Berita \n",
       "Negara Republik Indonesia. \n",
       " \n",
       " \n",
       "Ditetapkan di Jakarta  \n",
       "pada tanggal 6 Maret 2001  \n",
       "MENTERI \n",
       "KEUANGAN \n",
       "REPUBLIK \n",
       "INDONESIA \n",
       " \n",
       "PRIJADI PRAPTOSUHARDJO</td>\n",
       "      <td id=\"T_1eed6_row1_col1\" class=\"data row1 col1\" >{'file_name': 'ojk-peraturan_keputusan_mentri-112_kmk_03_2001-06032001-kmk_nomor_112_kmk_03_2001_112_kmk_03_2001_pdf.pdf', 'title': 'Keputusan Menteri Keuangan tentang Pemotongan Pajak Penghasil Pasal 21 atas Penghasilan berupa Uang Pesangon, Uang Tebusan Pensiun, dan Tunjangan Hari Tua atau Jaminan Hari Tua', 'sector': 'IKNB', 'subsector': 'Dana Pensiun', 'regulation_type': 'Peraturan/Keputusan Mentri', 'regulation_number': '112/KMK.03/2001', 'effective_date': '6 Maret 2001'}</td>\n",
       "      <td id=\"T_1eed6_row1_col2\" class=\"data row1 col2\" >Fail</td>\n",
       "    </tr>\n",
       "    <tr>\n",
       "      <th id=\"T_1eed6_level0_row2\" class=\"row_heading level0 row2\" >2</th>\n",
       "      <td id=\"T_1eed6_row2_col0\" class=\"data row2 col0\" >No. 15/26/DPbS  \n",
       " \n",
       " \n",
       " \n",
       "     Jakarta, 10  Juli  2013    \n",
       " \n",
       " \n",
       "S U R A T    E D A R A N \n",
       " \n",
       "Kepada \n",
       "SEMUA BANK UMUM SYARIAH DAN UNIT USAHA SYARIAH  \n",
       "DI INDONESIA \n",
       " \n",
       "Perihal :  \n",
       "Pelaksanaan Pedoman Akuntansi Perbankan Syariah \n",
       "Indonesia. \n",
       " \n",
       "     \n",
       "Sehubungan \n",
       "dengan \n",
       "Peraturan \n",
       "Bank \n",
       "Indonesia \n",
       "Nomor \n",
       "14/14/PBI/2012 tentang Transparansi dan Publikasi Laporan Bank \n",
       "(Lembaran Negara Republik Indonesia Tahun 2012 Nomor 199, Tambahan \n",
       "Lembaran Negara Republik Indonesia Tahun 2012 Nomor 5353), perlu \n",
       "diatur ketentuan mengenai pelaksanaan pedoman akuntansi perbankan \n",
       "syariah Indonesia dalam Surat Edaran Bank Indonesia sebagai berikut:  \n",
       "I. \n",
       "KETENTUAN UMUM \n",
       "A. \n",
       "Dalam rangka peningkatan transparansi kondisi keuangan bagi \n",
       "Bank Umum Syariah dan Unit Usaha Syariah, selanjutnya disebut \n",
       "Bank Syariah, dan penyusunan laporan keuangan yang relevan, \n",
       "komprehensif, andal dan dapat diperbandingkan, Bank Syariah \n",
       "menyusun \n",
       "dan \n",
       "menyajikan \n",
       "laporan \n",
       "keuangan \n",
       "berdasarkan \n",
       "Pernyataan Standar Akuntansi Keuangan (PSAK) yang relevan bagi \n",
       "Bank Syariah, Pedoman Akuntansi Perbankan Syariah Indonesia \n",
       "(PAPSI), dan ketentuan lain yang ditetapkan oleh Bank Indonesia. \n",
       "B. \n",
       "PAPSI merupakan petunjuk pelaksanaan yang berisi penjabaran \n",
       "lebih \n",
       "lanjut \n",
       "dari \n",
       "beberapa \n",
       "Pernyataan \n",
       "Standar \n",
       "Akuntansi \n",
       "Keuangan (PSAK) yang relevan bagi industri perbankan syariah. \n",
       "C. Dengan …</td>\n",
       "      <td id=\"T_1eed6_row2_col1\" class=\"data row2 col1\" >{'file_name': 'ojk-sebi-15_26_dpbs-10072013-sebi_perihal_pelaksanaan_pedoman_akuntansi_perbankan_syariah_indonesia_sebi_26_pdf.pdf', 'title': 'Surat Edaran Bank Indonesia perihal Pelaksanaan Pedoman Akuntansi Perbankan Syariah Indonesia', 'sector': 'Perbankan', 'subsector': 'Perbankan Syariah', 'regulation_type': 'SEBI', 'regulation_number': '15/26/DPbS', 'effective_date': '10 Juli 2013'}</td>\n",
       "      <td id=\"T_1eed6_row2_col2\" class=\"data row2 col2\" >Pass</td>\n",
       "    </tr>\n",
       "  </tbody>\n",
       "</table>\n"
      ],
      "text/plain": [
       "<pandas.io.formats.style.Styler at 0x1ab587023a0>"
      ]
     },
     "metadata": {},
     "output_type": "display_data"
    }
   ],
   "source": [
    "from utils.evaluator import get_response_eval_sources_df\n",
    "\n",
    "if EVAL:\n",
    "    relevancy_eval_sources = get_response_eval_sources_df(query=query_str, response=response_vector, evaluator=faithfullness_evaluator)\n",
    "    display(relevancy_eval_sources)"
   ]
  },
  {
   "cell_type": "markdown",
   "metadata": {},
   "source": [
    "#### **Relevancy Evaluator**"
   ]
  },
  {
   "cell_type": "markdown",
   "metadata": {},
   "source": [
    "Evaluate Response"
   ]
  },
  {
   "cell_type": "code",
   "execution_count": 20,
   "metadata": {},
   "outputs": [
    {
     "data": {
      "text/html": [
       "<style type=\"text/css\">\n",
       "#T_0da0f_row0_col1, #T_0da0f_row0_col2 {\n",
       "  inline-size: 600px;\n",
       "  overflow-wrap: break-word;\n",
       "}\n",
       "</style>\n",
       "<table id=\"T_0da0f\">\n",
       "  <thead>\n",
       "    <tr>\n",
       "      <th class=\"blank level0\" >&nbsp;</th>\n",
       "      <th id=\"T_0da0f_level0_col0\" class=\"col_heading level0 col0\" >Query</th>\n",
       "      <th id=\"T_0da0f_level0_col1\" class=\"col_heading level0 col1\" >Response</th>\n",
       "      <th id=\"T_0da0f_level0_col2\" class=\"col_heading level0 col2\" >Source</th>\n",
       "      <th id=\"T_0da0f_level0_col3\" class=\"col_heading level0 col3\" >Evaluation Result</th>\n",
       "      <th id=\"T_0da0f_level0_col4\" class=\"col_heading level0 col4\" >Reasoning</th>\n",
       "    </tr>\n",
       "  </thead>\n",
       "  <tbody>\n",
       "    <tr>\n",
       "      <th id=\"T_0da0f_level0_row0\" class=\"row_heading level0 row0\" >0</th>\n",
       "      <td id=\"T_0da0f_row0_col0\" class=\"data row0 col0\" >Kapan surat edaran No. 15/26/DPbS mulai berlaku?</td>\n",
       "      <td id=\"T_0da0f_row0_col1\" class=\"data row0 col1\" >Surat edaran No. 15/26/DPbS mulai berlaku pada tanggal 10 Juli 2013.</td>\n",
       "      <td id=\"T_0da0f_row0_col2\" class=\"data row0 col2\" >spesifik, Bank wajib menyampaikan rencana tindak (action plan)  \n",
       "yang akan dilakukan. \n",
       "D. \n",
       "Ketentuan mengenai estimasi penurunan nilai pembiayaan secara \n",
       "kolektif sebagaimana dimaksud dalam huruf B, merupakan acuan \n",
       "bagi Bank Syariah dalam menyusun dan menyajikan laporan \n",
       "keuangan serta menjadi acuan bagi Akuntan Publik dalam \n",
       "melakukan pemeriksaan laporan keuangan Bank Syariah. \n",
       "E. \n",
       "Hal-hal yang harus dilakukan oleh Akuntan Publik dalam \n",
       "pemeriksaan atas estimasi penurunan nilai kolektif adalah sebagai \n",
       "berikut: \n",
       "1. Dalam pelaksanaan audit, Akuntan Publik bertanggung jawab \n",
       "untuk: \n",
       "a. \n",
       "menilai kewajaran penilaian sendiri (self-assessment) yang \n",
       "dilakukan \n",
       "oleh \n",
       "manajemen \n",
       "Bank \n",
       "Syariah \n",
       "dalam \n",
       "menetapkan \n",
       "keberadaan \n",
       "kondisi \n",
       "keterbatasan \n",
       "pengalaman kerugian spesifik sebagaimana dimaksud \n",
       "dalam Lampiran Surat Edaran Bank Indonesia ini; dan \n",
       "b. \n",
       "menilai kewajaran estimasi oleh manajemen Bank Syariah \n",
       "dalam menentukan penurunan nilai pembiayaan secara \n",
       "kolektif. \n",
       "2. Apabila dalam pelak...</td>\n",
       "      <td id=\"T_0da0f_row0_col3\" class=\"data row0 col3\" >Pass</td>\n",
       "      <td id=\"T_0da0f_row0_col4\" class=\"data row0 col4\" >YES</td>\n",
       "    </tr>\n",
       "  </tbody>\n",
       "</table>\n"
      ],
      "text/plain": [
       "<pandas.io.formats.style.Styler at 0x1ab5b158ca0>"
      ]
     },
     "metadata": {},
     "output_type": "display_data"
    }
   ],
   "source": [
    "if EVAL:\n",
    "    relevancy_eval_result = relevancy_evaluator.evaluate_response(\n",
    "        query=query_str, response=response_vector\n",
    "    )\n",
    "\n",
    "    display(get_response_eval_df(query=query_str, response=response_vector, eval_result=relevancy_eval_result))"
   ]
  },
  {
   "cell_type": "markdown",
   "metadata": {},
   "source": [
    "Evaluate Source Nodes"
   ]
  },
  {
   "cell_type": "code",
   "execution_count": 21,
   "metadata": {},
   "outputs": [
    {
     "data": {
      "text/html": [
       "<style type=\"text/css\">\n",
       "#T_cc6ec_row0_col0, #T_cc6ec_row1_col0, #T_cc6ec_row2_col0 {\n",
       "  inline-size: 600px;\n",
       "  overflow-wrap: break-word;\n",
       "}\n",
       "</style>\n",
       "<table id=\"T_cc6ec\">\n",
       "  <thead>\n",
       "    <tr>\n",
       "      <th class=\"blank level0\" >&nbsp;</th>\n",
       "      <th id=\"T_cc6ec_level0_col0\" class=\"col_heading level0 col0\" >Source</th>\n",
       "      <th id=\"T_cc6ec_level0_col1\" class=\"col_heading level0 col1\" >Metadata</th>\n",
       "      <th id=\"T_cc6ec_level0_col2\" class=\"col_heading level0 col2\" >Eval Result</th>\n",
       "    </tr>\n",
       "  </thead>\n",
       "  <tbody>\n",
       "    <tr>\n",
       "      <th id=\"T_cc6ec_level0_row0\" class=\"row_heading level0 row0\" >0</th>\n",
       "      <td id=\"T_cc6ec_row0_col0\" class=\"data row0 col0\" >spesifik, Bank wajib menyampaikan rencana tindak (action plan)  \n",
       "yang akan dilakukan. \n",
       "D. \n",
       "Ketentuan mengenai estimasi penurunan nilai pembiayaan secara \n",
       "kolektif sebagaimana dimaksud dalam huruf B, merupakan acuan \n",
       "bagi Bank Syariah dalam menyusun dan menyajikan laporan \n",
       "keuangan serta menjadi acuan bagi Akuntan Publik dalam \n",
       "melakukan pemeriksaan laporan keuangan Bank Syariah. \n",
       "E. \n",
       "Hal-hal yang harus dilakukan oleh Akuntan Publik dalam \n",
       "pemeriksaan atas estimasi penurunan nilai kolektif adalah sebagai \n",
       "berikut: \n",
       "1. Dalam pelaksanaan audit, Akuntan Publik bertanggung jawab \n",
       "untuk: \n",
       "a. \n",
       "menilai kewajaran penilaian sendiri (self-assessment) yang \n",
       "dilakukan \n",
       "oleh \n",
       "manajemen \n",
       "Bank \n",
       "Syariah \n",
       "dalam \n",
       "menetapkan \n",
       "keberadaan \n",
       "kondisi \n",
       "keterbatasan \n",
       "pengalaman kerugian spesifik sebagaimana dimaksud \n",
       "dalam Lampiran Surat Edaran Bank Indonesia ini; dan \n",
       "b. \n",
       "menilai kewajaran estimasi oleh manajemen Bank Syariah \n",
       "dalam menentukan penurunan nilai pembiayaan secara \n",
       "kolektif. \n",
       "2. Apabila dalam pelaksanaan audit, Akuntan Publik menemukan \n",
       "bahwa Bank Syariah tidak berada dalam kondisi keterbatasan \n",
       "pengalaman kerugian spesifik namun menerapkan estimasi \n",
       "penurunan nilai pembiayaan secara kolektif maka Bank \n",
       "Syariah dinilai tidak menerapkan PSAK 55 beserta pedoman \n",
       "pelaksanaannya dan melanggar Surat Edaran Bank Indonesia \n",
       "ini. \n",
       "3. Temuan Akuntan Publik sebagaimana dimaksud dalam angka \n",
       "2 harus diungkapkan oleh Akuntan Publik dalam laporan hasil \n",
       "audit dan Surat Komentar (Management Letter) dan wajib \n",
       "disampaikan kepada Bank Indonesia sebagaimana diatur \n",
       "dalam ketentuan Bank Indonesia yang mengatur mengenai \n",
       "transparansi kondisi keuangan bank. \n",
       "F. Dalam … \n",
       "\n",
       "\n",
       "F. \n",
       "Dalam rangka memberikan informasi yang lebih transparan kepada \n",
       "masyarakat dan pengguna laporan keuangan Bank, Bank Syariah \n",
       "yang menerapkan estimasi penurunan nilai pembiayaan secara \n",
       "kolektif wajib mengungkapkan informasi tersebut dalam Catatan \n",
       "atas Laporan Keuangan dalam Laporan Tahunan sebagaimana \n",
       "diatur dalam Surat Edaran Bank Indonesia mengenai laporan \n",
       "tahunan bank umum. \n",
       "VI. KETENTUAN PENUTUP \n",
       "Dengan berlakunya Surat Edaran Bank Indonesia ini, Surat Edaran \n",
       "Bank Indonesia Nomor 5/26/BPS tanggal 27 Oktober 2003 perihal \n",
       "Pelaksanaan \n",
       "Pedoman \n",
       "Akuntansi \n",
       "Perbankan \n",
       "Syariah \n",
       "Indonesia \n",
       "dinyatakan tidak berlaku bagi Bank Umum Syariah dan Unit Usaha \n",
       "Syariah. \n",
       " \n",
       "Surat  Edaran  Bank  Indonesia  ini  mulai  berlaku  pada  tanggal 1 \n",
       "Agustus 2013.   \n",
       " \n",
       "Agar setiap orang mengetahuinya, memerintahkan pengumuman \n",
       "Surat Edaran Bank Indonesia ini dengan penempatannya dalam Berita \n",
       "Negara Republik Indonesia. \n",
       " \n",
       "Demikian agar Saudara maklum. \n",
       " \n",
       "BANK INDONESIA, \n",
       " \n",
       " \n",
       " \n",
       "HALIM ALAMSYAH  \n",
       "DEPUTI GUBERNUR \n",
       " \n",
       "DPbS</td>\n",
       "      <td id=\"T_cc6ec_row0_col1\" class=\"data row0 col1\" >{'file_name': 'ojk-sebi-15_26_dpbs-10072013-sebi_perihal_pelaksanaan_pedoman_akuntansi_perbankan_syariah_indonesia_sebi_26_pdf.pdf', 'title': 'Surat Edaran Bank Indonesia perihal Pelaksanaan Pedoman Akuntansi Perbankan Syariah Indonesia', 'sector': 'Perbankan', 'subsector': 'Perbankan Syariah', 'regulation_type': 'SEBI', 'regulation_number': '15/26/DPbS', 'effective_date': '10 Juli 2013'}</td>\n",
       "      <td id=\"T_cc6ec_row0_col2\" class=\"data row0 col2\" >Fail</td>\n",
       "    </tr>\n",
       "    <tr>\n",
       "      <th id=\"T_cc6ec_level0_row1\" class=\"row_heading level0 row1\" >1</th>\n",
       "      <td id=\"T_cc6ec_row1_col0\" class=\"data row1 col0\" >juta rupiah) sampai dengan Rp 100.000.000,00 (seratus juta \n",
       "rupiah) sebesar 10% (sepuluh persen);  \n",
       " \n",
       "  \n",
       "d.  penghasilan bruto di atas Rp 100.000.000,00 (seratus juta \n",
       "rupiah) sampai dengan Rp 200.000.000,00 (dua ratus juta \n",
       "rupiah) sebesar 15% (lima belas persen);  \n",
       " \n",
       "  \n",
       "e.  penghasilan bruto di atas Rp 200.000.000,00 (dua ratus juta \n",
       "rupiah) sebesar 25% (dua puliuh lima belas persen); \n",
       " \n",
       " \n",
       " \n",
       "Pasal  3 \n",
       "Pada saat Keputusan Menteri Keuangan ini mulai berlaku, Keputusan \n",
       "Menteri Keuangan Nomor 462/KMK.04/1998 dinyatakan tidak berlaku.\n",
       "Pasal  4 \n",
       "Keputusan ini mulai berlaku tanggal 1 Januari 2001. \n",
       "Agar setiap orang mengetahuinya, memerintahkan pengumuman \n",
       "Keputusan Menteri Keuangan ini dengan penempatannya dalam Berita \n",
       "Negara Republik Indonesia. \n",
       " \n",
       " \n",
       "Ditetapkan di Jakarta  \n",
       "pada tanggal 6 Maret 2001  \n",
       "MENTERI \n",
       "KEUANGAN \n",
       "REPUBLIK \n",
       "INDONESIA \n",
       " \n",
       "PRIJADI PRAPTOSUHARDJO</td>\n",
       "      <td id=\"T_cc6ec_row1_col1\" class=\"data row1 col1\" >{'file_name': 'ojk-peraturan_keputusan_mentri-112_kmk_03_2001-06032001-kmk_nomor_112_kmk_03_2001_112_kmk_03_2001_pdf.pdf', 'title': 'Keputusan Menteri Keuangan tentang Pemotongan Pajak Penghasil Pasal 21 atas Penghasilan berupa Uang Pesangon, Uang Tebusan Pensiun, dan Tunjangan Hari Tua atau Jaminan Hari Tua', 'sector': 'IKNB', 'subsector': 'Dana Pensiun', 'regulation_type': 'Peraturan/Keputusan Mentri', 'regulation_number': '112/KMK.03/2001', 'effective_date': '6 Maret 2001'}</td>\n",
       "      <td id=\"T_cc6ec_row1_col2\" class=\"data row1 col2\" >Fail</td>\n",
       "    </tr>\n",
       "    <tr>\n",
       "      <th id=\"T_cc6ec_level0_row2\" class=\"row_heading level0 row2\" >2</th>\n",
       "      <td id=\"T_cc6ec_row2_col0\" class=\"data row2 col0\" >No. 15/26/DPbS  \n",
       " \n",
       " \n",
       " \n",
       "     Jakarta, 10  Juli  2013    \n",
       " \n",
       " \n",
       "S U R A T    E D A R A N \n",
       " \n",
       "Kepada \n",
       "SEMUA BANK UMUM SYARIAH DAN UNIT USAHA SYARIAH  \n",
       "DI INDONESIA \n",
       " \n",
       "Perihal :  \n",
       "Pelaksanaan Pedoman Akuntansi Perbankan Syariah \n",
       "Indonesia. \n",
       " \n",
       "     \n",
       "Sehubungan \n",
       "dengan \n",
       "Peraturan \n",
       "Bank \n",
       "Indonesia \n",
       "Nomor \n",
       "14/14/PBI/2012 tentang Transparansi dan Publikasi Laporan Bank \n",
       "(Lembaran Negara Republik Indonesia Tahun 2012 Nomor 199, Tambahan \n",
       "Lembaran Negara Republik Indonesia Tahun 2012 Nomor 5353), perlu \n",
       "diatur ketentuan mengenai pelaksanaan pedoman akuntansi perbankan \n",
       "syariah Indonesia dalam Surat Edaran Bank Indonesia sebagai berikut:  \n",
       "I. \n",
       "KETENTUAN UMUM \n",
       "A. \n",
       "Dalam rangka peningkatan transparansi kondisi keuangan bagi \n",
       "Bank Umum Syariah dan Unit Usaha Syariah, selanjutnya disebut \n",
       "Bank Syariah, dan penyusunan laporan keuangan yang relevan, \n",
       "komprehensif, andal dan dapat diperbandingkan, Bank Syariah \n",
       "menyusun \n",
       "dan \n",
       "menyajikan \n",
       "laporan \n",
       "keuangan \n",
       "berdasarkan \n",
       "Pernyataan Standar Akuntansi Keuangan (PSAK) yang relevan bagi \n",
       "Bank Syariah, Pedoman Akuntansi Perbankan Syariah Indonesia \n",
       "(PAPSI), dan ketentuan lain yang ditetapkan oleh Bank Indonesia. \n",
       "B. \n",
       "PAPSI merupakan petunjuk pelaksanaan yang berisi penjabaran \n",
       "lebih \n",
       "lanjut \n",
       "dari \n",
       "beberapa \n",
       "Pernyataan \n",
       "Standar \n",
       "Akuntansi \n",
       "Keuangan (PSAK) yang relevan bagi industri perbankan syariah. \n",
       "C. Dengan …</td>\n",
       "      <td id=\"T_cc6ec_row2_col1\" class=\"data row2 col1\" >{'file_name': 'ojk-sebi-15_26_dpbs-10072013-sebi_perihal_pelaksanaan_pedoman_akuntansi_perbankan_syariah_indonesia_sebi_26_pdf.pdf', 'title': 'Surat Edaran Bank Indonesia perihal Pelaksanaan Pedoman Akuntansi Perbankan Syariah Indonesia', 'sector': 'Perbankan', 'subsector': 'Perbankan Syariah', 'regulation_type': 'SEBI', 'regulation_number': '15/26/DPbS', 'effective_date': '10 Juli 2013'}</td>\n",
       "      <td id=\"T_cc6ec_row2_col2\" class=\"data row2 col2\" >Pass</td>\n",
       "    </tr>\n",
       "  </tbody>\n",
       "</table>\n"
      ],
      "text/plain": [
       "<pandas.io.formats.style.Styler at 0x1ab587f5be0>"
      ]
     },
     "metadata": {},
     "output_type": "display_data"
    }
   ],
   "source": [
    "from utils.evaluator import get_response_eval_sources_df\n",
    "\n",
    "if EVAL:\n",
    "    relevancy_eval_sources = get_response_eval_sources_df(query=query_str, response=response_vector, evaluator=relevancy_evaluator)\n",
    "    display(relevancy_eval_sources)"
   ]
  },
  {
   "cell_type": "markdown",
   "metadata": {},
   "source": [
    "#### **Batch Evaluator (Faithfulness, Relevancy, Correctness)**"
   ]
  },
  {
   "cell_type": "code",
   "execution_count": 22,
   "metadata": {},
   "outputs": [
    {
     "name": "stdout",
     "output_type": "stream",
     "text": [
      "faithfulness Score: 1.0\n",
      "relevancy Score: 0.9\n"
     ]
    },
    {
     "data": {
      "text/html": [
       "<div>\n",
       "<style scoped>\n",
       "    .dataframe tbody tr th:only-of-type {\n",
       "        vertical-align: middle;\n",
       "    }\n",
       "\n",
       "    .dataframe tbody tr th {\n",
       "        vertical-align: top;\n",
       "    }\n",
       "\n",
       "    .dataframe thead th {\n",
       "        text-align: right;\n",
       "    }\n",
       "</style>\n",
       "<table border=\"1\" class=\"dataframe\">\n",
       "  <thead>\n",
       "    <tr style=\"text-align: right;\">\n",
       "      <th></th>\n",
       "      <th>faithfulness</th>\n",
       "      <th>relevancy</th>\n",
       "    </tr>\n",
       "  </thead>\n",
       "  <tbody>\n",
       "    <tr>\n",
       "      <th>0</th>\n",
       "      <td>1.0</td>\n",
       "      <td>0.9</td>\n",
       "    </tr>\n",
       "  </tbody>\n",
       "</table>\n",
       "</div>"
      ],
      "text/plain": [
       "   faithfulness  relevancy\n",
       "0           1.0        0.9"
      ]
     },
     "metadata": {},
     "output_type": "display_data"
    }
   ],
   "source": [
    "from llama_index.core.evaluation import BatchEvalRunner\n",
    "from utils.evaluator import get_batch_eval_results\n",
    "from utils.evaluator import get_batch_eval_df\n",
    "\n",
    "if EVAL:\n",
    "    runner = BatchEvalRunner(\n",
    "        {\n",
    "            \"faithfulness\": faithfullness_evaluator, \n",
    "            \"relevancy\": relevancy_evaluator,\n",
    "        },\n",
    "        workers=8,\n",
    "    )\n",
    "\n",
    "    vector_eval_results = await get_batch_eval_results(runner=runner, qa_dataset=qa_dataset, query_engine=vector_query_engine, num_queries=NUM_BATCH_EVAL)\n",
    "    # summary_eval_results = await get_batch_eval_results(runner=runner, qa_dataset=qa_dataset, query_engine=list_query_engine, num_queries=NUM_BATCH_EVAL)\n",
    "    display(get_batch_eval_df(vector_eval_results))\n",
    "    # display(get_batch_eval_df(summary_eval_results))"
   ]
  },
  {
   "cell_type": "markdown",
   "metadata": {},
   "source": [
    "## **Build Agent**"
   ]
  },
  {
   "cell_type": "code",
   "execution_count": 23,
   "metadata": {},
   "outputs": [],
   "source": [
    "from llama_index.core.tools import QueryEngineTool, ToolMetadata\n",
    "\n",
    "query_engine_tools = [\n",
    "    QueryEngineTool(\n",
    "        query_engine=vector_query_engine,\n",
    "        metadata=ToolMetadata(\n",
    "            name=\"vector_tool\",\n",
    "            description=(\n",
    "                f\"Useful for retrieving specific context from the documents.\"\n",
    "            ),\n",
    "        ),\n",
    "    ),\n",
    "    QueryEngineTool(\n",
    "        query_engine=list_query_engine,\n",
    "        metadata=ToolMetadata(\n",
    "            name=\"summary_tool\",\n",
    "            description=(\n",
    "                \"Useful for summarization questions related to the documents.\"\n",
    "            ),\n",
    "        ),\n",
    "    ),\n",
    "]"
   ]
  },
  {
   "cell_type": "code",
   "execution_count": 24,
   "metadata": {},
   "outputs": [],
   "source": [
    "system_prompt = \"\"\"Anda adalah chatbot yang dapat membantu menjawab pertanyaan tentang berbagai jenis regulasi di Indonesia.\n",
    "\n",
    "Anda HARUS selalu menjawab dengan BAHASA QUERY.\n",
    "Anda TIDAK DIBENARKAN berimajinasi.\n",
    "Anda HANYA DIBENARKAN menjawab pertanyaan berdasarkan dokumen yang telah Anda pelajari.\n",
    "JANGAN MENGGUNAKAN informasi dari luar dokumen yang telah Anda pelajari.\n",
    "Anda memiliki akses ke query tools untuk membantu Anda menemukan informasi yang relevan di basis data regulasi.\n",
    "Berdasarkan informasi konteks dan bukan pengetahuan sebelumnya, jawablah pertanyaan HARUS menggunakan query tools yang tersedia.\n",
    "Gunakan riwayat percakapan sebelumnya atau konteks di atas untuk berinteraksi dan membantu pengguna.\n",
    "\n",
    "Anda memiliki akses ke query tools berikut: \n",
    "- **vector_tool**: Untuk menemukan konteks spesifik dari dokumen\n",
    "- **summary_tool**: Untuk menemukan ringkasan dokumen\n",
    "\n",
    "**Penjelasan Metadata:**\n",
    "Metadata dokumen mencakup informasi berikut:\n",
    "- **file_name**: Nama file dokumen\n",
    "- **title**: Judul dokumen\n",
    "- **sector**: Sektor yang dicakup oleh regulasi\n",
    "- **subsector**: Subsektor yang dicakup oleh regulasi\n",
    "- **regulation_type**: Jenis regulasi (misalnya, Surat Edaran OJK, Peraturan OJK)\n",
    "- **regulation_number**: Nomor regulasi\n",
    "- **effective_date**: Tanggal berlakunya regulasi\n",
    "\n",
    "----------------------------------------------\n",
    "Query: {query_str}\n",
    "Jawaban:\n",
    "\"\"\""
   ]
  },
  {
   "cell_type": "code",
   "execution_count": 25,
   "metadata": {},
   "outputs": [],
   "source": [
    "from llama_index.core.storage.chat_store import SimpleChatStore\n",
    "from llama_index.core.memory import ChatMemoryBuffer\n",
    "\n",
    "chat_store = SimpleChatStore()\n",
    "memory = ChatMemoryBuffer.from_defaults(\n",
    "    token_limit=10000,\n",
    "    chat_store=chat_store,\n",
    "    chat_store_key=\"user1\",\n",
    ")"
   ]
  },
  {
   "cell_type": "code",
   "execution_count": 26,
   "metadata": {},
   "outputs": [],
   "source": [
    "from llama_index.core.callbacks import CallbackManager, LlamaDebugHandler\n",
    "\n",
    "llama_debug = LlamaDebugHandler(print_trace_on_end=True)\n",
    "callback_manager = CallbackManager([llama_debug])"
   ]
  },
  {
   "cell_type": "code",
   "execution_count": 27,
   "metadata": {},
   "outputs": [],
   "source": [
    "from llama_index.agent.openai import OpenAIAgent\n",
    "from llama_index.core.agent.legacy.react.base import ReActAgent\n",
    "\n",
    "\n",
    "# agent = OpenAIAgent.from_tools(\n",
    "#     tools=query_engine_tools,\n",
    "#     llm=llm,\n",
    "#     verbose=True,\n",
    "#     memory=memory,\n",
    "#     system_prompt=system_prompt,\n",
    "#     callback_manager=callback_manager,\n",
    "# )\n",
    "\n",
    "agent = ReActAgent.from_tools(\n",
    "    llm=llm,\n",
    "    memory=memory,\n",
    "    tools=query_engine_tools,\n",
    "    verbose=True,\n",
    "    system_prompt=system_prompt,\n",
    "    callback_manager=callback_manager,\n",
    ")"
   ]
  },
  {
   "cell_type": "code",
   "execution_count": 28,
   "metadata": {},
   "outputs": [
    {
     "name": "stdout",
     "output_type": "stream",
     "text": [
      "\u001b[1;3;38;5;200mThought: Saya perlu menggunakan sebuah alat untuk menemukan informasi yang tepat dari dokumen tersebut.\n",
      "Action: vector_tool\n",
      "Action Input: {'input': 'surat edaran No. 15/26/DPbS mulai berlaku'}\n",
      "\u001b[0m\u001b[1;3;34mObservation: Surat edaran No. 15/26/DPbS mulai berlaku pada tanggal 10 Juli 2013.\n",
      "\u001b[0m\u001b[1;3;38;5;200mThought: Saya dapat menjawab tanpa menggunakan alat tambahan.\n",
      "Answer: Surat edaran No. 15/26/DPbS mulai berlaku pada tanggal 10 Juli 2013.\n",
      "\u001b[0m**********\n",
      "Trace: chat\n",
      "    |_llm -> 1.511327 seconds\n",
      "    |_function_call -> 12.806048 seconds\n",
      "    |_llm -> 1.118673 seconds\n",
      "**********\n"
     ]
    }
   ],
   "source": [
    "response_agent = agent.chat(message=query_str)"
   ]
  },
  {
   "cell_type": "code",
   "execution_count": 29,
   "metadata": {},
   "outputs": [
    {
     "data": {
      "text/markdown": [
       "**`Final Response:`** Surat edaran No. 15/26/DPbS mulai berlaku pada tanggal 10 Juli 2013."
      ],
      "text/plain": [
       "<IPython.core.display.Markdown object>"
      ]
     },
     "metadata": {},
     "output_type": "display_data"
    }
   ],
   "source": [
    "from llama_index.core.response.notebook_utils import display_response\n",
    "\n",
    "display_response(response=response_agent)"
   ]
  },
  {
   "cell_type": "code",
   "execution_count": 30,
   "metadata": {},
   "outputs": [
    {
     "data": {
      "text/markdown": [
       "**Node ID:** ddb11087-0b55-4c32-b41d-e7bf668477dd<br>**Similarity:** 0.9232231378555298<br>**Text:** spesifik, Bank wajib menyampaikan rencana tindak (action plan)  \n",
       "yang akan dilakukan. \n",
       "D. \n",
       "Ketent...<br>**Metadata:** {'file_name': 'ojk-sebi-15_26_dpbs-10072013-sebi_perihal_pelaksanaan_pedoman_akuntansi_perbankan_syariah_indonesia_sebi_26_pdf.pdf', 'title': 'Surat Edaran Bank Indonesia perihal Pelaksanaan Pedoman Akuntansi Perbankan Syariah Indonesia', 'sector': 'Perbankan', 'subsector': 'Perbankan Syariah', 'regulation_type': 'SEBI', 'regulation_number': '15/26/DPbS', 'effective_date': '10 Juli 2013'}<br>"
      ],
      "text/plain": [
       "<IPython.core.display.Markdown object>"
      ]
     },
     "metadata": {},
     "output_type": "display_data"
    },
    {
     "data": {
      "text/markdown": [
       "**Node ID:** 4b01ab66-fd0c-4058-a826-96905bcab6a5<br>**Similarity:** 0.9161874055862427<br>**Text:** - 3 - \n",
       " \n",
       "3. Undang-Undang Nomor 24 Tahun 2004 tentang Lembaga \n",
       "Penjamin Simpanan (Lembaran Negara...<br>**Metadata:** {'file_name': 'ojk-ppbi-7_33_pbi_2005-22092005-pbi_tentang_pencabutan_atas_pbi_nomor_517pbi2003_tentang_persyaratan_dan_tata_cara_pelaksanaan_jaminan_pemerintahan__280_pdf.pdf', 'title': 'Peraturan Bank Indonesia tentang Pencabutan atas Peraturan Bank Indonesia Nomor 5/17/PBI/2003 tentang Persyaratan dan Tata Cara Pelaksanaan Jaminan Pemerintah terhadap Kewajiban Pembayaran Bank Perkreditan Rakyat', 'sector': 'Perbankan', 'subsector': 'Bank Umum,  BPR', 'regulation_type': 'PPBI', 'regulation_number': '7/33/PBI/2005', 'effective_date': '22 September 2005'}<br>"
      ],
      "text/plain": [
       "<IPython.core.display.Markdown object>"
      ]
     },
     "metadata": {},
     "output_type": "display_data"
    },
    {
     "data": {
      "text/markdown": [
       "**Node ID:** 404581d2-9b20-4e08-8a56-2118da6e5b6c<br>**Similarity:** 0.9160281419754028<br>**Text:** No. 15/26/DPbS  \n",
       " \n",
       " \n",
       " \n",
       "     Jakarta, 10  Juli  2013    \n",
       " \n",
       " \n",
       "S U R A T    E D A R A N \n",
       " \n",
       "Kepada \n",
       "S...<br>**Metadata:** {'file_name': 'ojk-sebi-15_26_dpbs-10072013-sebi_perihal_pelaksanaan_pedoman_akuntansi_perbankan_syariah_indonesia_sebi_26_pdf.pdf', 'title': 'Surat Edaran Bank Indonesia perihal Pelaksanaan Pedoman Akuntansi Perbankan Syariah Indonesia', 'sector': 'Perbankan', 'subsector': 'Perbankan Syariah', 'regulation_type': 'SEBI', 'regulation_number': '15/26/DPbS', 'effective_date': '10 Juli 2013'}<br>"
      ],
      "text/plain": [
       "<IPython.core.display.Markdown object>"
      ]
     },
     "metadata": {},
     "output_type": "display_data"
    }
   ],
   "source": [
    "from llama_index.core.response.notebook_utils import display_source_node\n",
    "\n",
    "for node in response_agent.source_nodes:\n",
    "    display_source_node(node, show_source_metadata=True)    "
   ]
  },
  {
   "cell_type": "code",
   "execution_count": 31,
   "metadata": {},
   "outputs": [],
   "source": [
    "chat_store_string = chat_store.json()\n",
    "loaded_chat_store = SimpleChatStore.parse_raw(chat_store_string)"
   ]
  }
 ],
 "metadata": {
  "kernelspec": {
   "display_name": "chatbot",
   "language": "python",
   "name": "python3"
  },
  "language_info": {
   "codemirror_mode": {
    "name": "ipython",
    "version": 3
   },
   "file_extension": ".py",
   "mimetype": "text/x-python",
   "name": "python",
   "nbconvert_exporter": "python",
   "pygments_lexer": "ipython3",
   "version": "3.9.19"
  }
 },
 "nbformat": 4,
 "nbformat_minor": 2
}
