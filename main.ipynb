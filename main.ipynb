{
 "cells": [
  {
   "cell_type": "markdown",
   "metadata": {},
   "source": [
    "# **OJKGPT**\n",
    "\n",
    "This is the Jupyter Notebook for the development of the 1st version of OJKGPT for the showcase demo capabilites to wealth team program. <br>\n",
    "In this development, we use several data sources for enriching the RAG system of the chatbot. "
   ]
  },
  {
   "cell_type": "code",
   "execution_count": 13,
   "metadata": {},
   "outputs": [],
   "source": [
    "import nest_asyncio\n",
    "nest_asyncio.apply()"
   ]
  },
  {
   "cell_type": "code",
   "execution_count": 14,
   "metadata": {},
   "outputs": [
    {
     "data": {
      "text/plain": [
       "True"
      ]
     },
     "execution_count": 14,
     "metadata": {},
     "output_type": "execute_result"
    }
   ],
   "source": [
    "from dotenv import load_dotenv\n",
    "load_dotenv()"
   ]
  },
  {
   "cell_type": "code",
   "execution_count": 15,
   "metadata": {},
   "outputs": [],
   "source": [
    "import logging\n",
    "import sys\n",
    "\n",
    "logging.basicConfig(stream=sys.stdout, level=logging.INFO)\n",
    "logging.getLogger().addHandler(logging.StreamHandler(stream=sys.stdout))"
   ]
  },
  {
   "cell_type": "code",
   "execution_count": 16,
   "metadata": {},
   "outputs": [],
   "source": [
    "from utils.models_define import ModelName\n",
    "\n",
    "# storing or not\n",
    "STORE = False\n",
    "DELETE = False\n",
    "model_name = ModelName.OPENAI"
   ]
  },
  {
   "cell_type": "markdown",
   "metadata": {},
   "source": [
    "## **LLM Models Define**"
   ]
  },
  {
   "cell_type": "code",
   "execution_count": 17,
   "metadata": {},
   "outputs": [],
   "source": [
    "from llama_index.core import Settings\n",
    "from utils.models_define import get_llm_and_embedding\n",
    "\n",
    "# ollama/openai/azure_openai\n",
    "llm, embedding_llm = get_llm_and_embedding(model_name=model_name)\n",
    "\n",
    "Settings.llm = llm\n",
    "Settings.embed_model = embedding_llm"
   ]
  },
  {
   "cell_type": "markdown",
   "metadata": {},
   "source": [
    "## **Loading Documents**"
   ]
  },
  {
   "cell_type": "markdown",
   "metadata": {},
   "source": [
    "### **Document Reader and Node Parser**"
   ]
  },
  {
   "cell_type": "code",
   "execution_count": 18,
   "metadata": {},
   "outputs": [],
   "source": [
    "from utils.documents_reader import read_documents\n",
    "from utils.node_parser import parse_nodes\n",
    "from utils.doc_store import store_docstore, load_docstore\n",
    "\n",
    "path = './data'\n",
    "\n",
    "if STORE:\n",
    "    docs_all = read_documents(path=path)\n",
    "    nodes_all = parse_nodes(documents=docs_all, llm=llm)\n",
    "    docstore = store_docstore(documents=docs_all, delete=DELETE)\n",
    "else:\n",
    "    docstore = load_docstore()"
   ]
  },
  {
   "cell_type": "markdown",
   "metadata": {},
   "source": [
    "## **Indexing & Storing**"
   ]
  },
  {
   "cell_type": "code",
   "execution_count": 19,
   "metadata": {},
   "outputs": [
    {
     "name": "stdout",
     "output_type": "stream",
     "text": [
      "Loading the index completed.\n"
     ]
    }
   ],
   "source": [
    "from utils.vector_store import (store_vector_index, load_vector_index)\n",
    "\n",
    "# store\n",
    "if STORE:\n",
    "    index_all = store_vector_index(nodes=nodes_all,embed_model=embedding_llm, delete=DELETE)\n",
    "\n",
    "# load\n",
    "else:\n",
    "    index_all = load_vector_index()"
   ]
  },
  {
   "cell_type": "markdown",
   "metadata": {},
   "source": [
    "## **Querying**"
   ]
  },
  {
   "cell_type": "markdown",
   "metadata": {},
   "source": [
    "### **Retriever**"
   ]
  },
  {
   "cell_type": "code",
   "execution_count": 20,
   "metadata": {},
   "outputs": [],
   "source": [
    "from llama_index.retrievers.bm25 import BM25Retriever\n",
    "from utils.fusion_retriever import FusionRetriever\n",
    "# from llama_index.core.retrievers import RecursiveRetriever\n",
    "\n",
    "vector_retriever_all = index_all.as_retriever(similarity_top_k=5)\n",
    "\n",
    "bm25_retriever = BM25Retriever.from_defaults(\n",
    "    docstore=docstore, similarity_top_k=5, verbose=True\n",
    ")\n",
    "\n",
    "fusion_retriever = FusionRetriever(\n",
    "    llm=llm,\n",
    "    retrievers=[vector_retriever_all, bm25_retriever],\n",
    "    similarity_top_k=5,\n",
    ")"
   ]
  },
  {
   "cell_type": "markdown",
   "metadata": {},
   "source": [
    "### **Query Engine**"
   ]
  },
  {
   "cell_type": "code",
   "execution_count": 21,
   "metadata": {},
   "outputs": [],
   "source": [
    "from llama_index.core.query_engine import RetrieverQueryEngine\n",
    "\n",
    "query_engine_all = RetrieverQueryEngine.from_args(retriever=fusion_retriever,llm=llm)"
   ]
  },
  {
   "cell_type": "code",
   "execution_count": 120,
   "metadata": {},
   "outputs": [],
   "source": [
    "a = \"Apa judul peraturan 7/33/PBI/2005?\" # Pencabutan atas Peraturan Bank Indonesia Nomor 5/17/PBI/2003 tentang Persyaratan dan Tata Cara Pelaksanaan Jaminan Pemerintah terhadap Kewajiban Pembayaran Bank Perkreditan Rakyat\n",
    "b = \"Kapan surat edaran No. 15/26/DPbS mulai berlaku?\" # 1 Agustus 2013.\n",
    "c = \"Siapa nama dan jabatannya yang menandatangani surat dengan nomor 1/SEOJK.04/2013?\" # NURHAIDA, kepala eksekutif pengawas pasar modal\n",
    "d = \"Saya ingin menyelenggarakan kegiatan pasar modal berikan saya nomor surat yang membahas mengenai hal ini!\" # 1/SEOJK.04/2013\n",
    "e = \"Berapa persen jaminan moneter pada tanggal 20 Agustus 1958?\" # 7,3%\n",
    "f = \"Surat edaran nomor berapa yang mengatur bank umum syariah dan unit usaha syariah?\" # 15/26/DPbS\n",
    "g = \"Apa kepanjangan dari PAPSI?\" # Pedoman Akuntansi Perbankan Syariah Indonesia\n",
    "h = \"apa judul peraturan nomor 112/KMK.03/2001?\" # Keputusan Menteri Keuangan tentang Pemotongan Pajak Penghasil Pasal 21 atas Penghasilan berupa Uang Pesangon, Uang Tebusan Pensiun, dan Tunjangan Hari Tua atau Jaminan Hari Tua\n",
    "i = \"Saya ingin membuat sistem informasi lembaga jasa keuangan, berikan nomor regulasi dari peraturan yang membahas tentang manejemen risiko nya!\" # 4/POJK.05/2021\n",
    "j = \"Apa kepanjangan dari SWDKLLJ?\" # Sumbangan Wajib Dana Kecelakaan Lalu Lintas Jalan\n",
    "k = \"Berapa nilai SWDKLLJ Jeep?\" # Rp.140.000\n",
    "l = \"Apa latar belakang dari peraturan NOMOR 4/POJK.05/2021?\" # dalam bentuk list\n",
    "m = \"Apa itu LJKNB?\" # Lembaga Jasa Keuangan Non Bank\n",
    "n = \"Apakah KMK Nomor 462/KMK.04/1998 masih berlaku\" # tidak\n",
    "o = \"Apa itu Uang Pesangon?\" # penghasilan yang dibayarkan oleh pemberi kerja kepada karyawan dengan nama dan dalam bentuk apapun sehubungan dengan berakhirnya masa kerja atau terjadi pemutusan  hubungan kerja, termasuk uang penghargaan masa kerja dan uang  ganti kerugian\n",
    "p = \"Apa itu CKPN?\" # Cadangan Kerugian Penurunan Nilai.\n",
    "\n",
    "z = \"What is the limit of QRIS Transaction Nominal?\"\n",
    "\n",
    "query_str = k"
   ]
  },
  {
   "cell_type": "code",
   "execution_count": 121,
   "metadata": {},
   "outputs": [
    {
     "name": "stderr",
     "output_type": "stream",
     "text": [
      "100%|██████████| 6/6 [00:00<00:00,  6.96it/s]\n"
     ]
    }
   ],
   "source": [
    "response = query_engine_all.query(query_str)"
   ]
  },
  {
   "cell_type": "code",
   "execution_count": 122,
   "metadata": {},
   "outputs": [
    {
     "data": {
      "text/markdown": [
       "**`Final Response:`** Rp140.000,00"
      ],
      "text/plain": [
       "<IPython.core.display.Markdown object>"
      ]
     },
     "metadata": {},
     "output_type": "display_data"
    }
   ],
   "source": [
    "from llama_index.core.response.notebook_utils import display_response\n",
    "\n",
    "display_response(response)"
   ]
  },
  {
   "cell_type": "markdown",
   "metadata": {},
   "source": [
    "## **Build Agent**"
   ]
  },
  {
   "cell_type": "code",
   "execution_count": 123,
   "metadata": {},
   "outputs": [],
   "source": [
    "from llama_index.core.tools import QueryEngineTool, ToolMetadata\n",
    "\n",
    "query_tools = [\n",
    "    QueryEngineTool(\n",
    "        query_engine=query_engine_all,\n",
    "        metadata=ToolMetadata(\n",
    "            name=\"bi_ojk\",\n",
    "            description=\"Useful for retrieving answers from all documents.\",\n",
    "        )\n",
    "    ),\n",
    "]"
   ]
  },
  {
   "cell_type": "code",
   "execution_count": 124,
   "metadata": {},
   "outputs": [],
   "source": [
    "system_prompt = \"\"\"\n",
    "You are a chatbot able to help answer questions about various types of regulations in Indonesia.\n",
    "\n",
    "You MUST always answer WITH BAHASA INDONESIA.\n",
    "You are NOT ALLOWED to hallucinate.\n",
    "You MUST FOLLOW the answer from query engine.\n",
    "You are ONLY ALLOWED to answer the question based on documents that you have been trained on.\n",
    "You have access to a query tool to help you find relevant information in the regulations database.\n",
    "Given the context information and not prior knowledge, answer the query using the query tool provided.\n",
    "Use the previous chat history, or the context above, to interact and help the user.\n",
    "----------------------------------------------\n",
    "Query: {query_str}\n",
    "Answer:\n",
    "\"\"\""
   ]
  },
  {
   "cell_type": "code",
   "execution_count": 125,
   "metadata": {},
   "outputs": [],
   "source": [
    "from llama_index.core.storage.chat_store import SimpleChatStore\n",
    "from llama_index.core.memory import ChatMemoryBuffer\n",
    "\n",
    "chat_store = SimpleChatStore()\n",
    "memory = ChatMemoryBuffer.from_defaults(\n",
    "    token_limit=10000,\n",
    "    chat_store=chat_store,\n",
    "    chat_store_key=\"user1\",\n",
    ")"
   ]
  },
  {
   "cell_type": "code",
   "execution_count": 126,
   "metadata": {},
   "outputs": [],
   "source": [
    "from llama_index.core.callbacks import CallbackManager, LlamaDebugHandler\n",
    "\n",
    "llama_debug = LlamaDebugHandler(print_trace_on_end=True)\n",
    "callback_manager = CallbackManager([llama_debug])"
   ]
  },
  {
   "cell_type": "code",
   "execution_count": 127,
   "metadata": {},
   "outputs": [],
   "source": [
    "from utils.custom_agent import YourOpenAIAgent, CustomAgent, agent_with_memory\n",
    "from llama_index.agent.openai import OpenAIAgent\n",
    "from llama_index.core.agent.legacy.react.base import ReActAgent\n",
    "\n",
    "# agent = custom_agent(\n",
    "#     llm=llm,\n",
    "#     query_engine_tools=query_tools,\n",
    "#     verbose=True,\n",
    "# )\n",
    "\n",
    "# agent = YourOpenAIAgent(\n",
    "#     llm=llm,\n",
    "#     tools=query_tools,\n",
    "# )\n",
    "\n",
    "# agent = agent_with_memory(\n",
    "#     llm=llm,\n",
    "#     tools=query_tools,\n",
    "#     memory=memory,\n",
    "#     system_prompt=system_prompt\n",
    "# )\n",
    "\n",
    "# agent = CustomAgent(\n",
    "#     llm=llm,\n",
    "#     query_engine_tools=query_tools,\n",
    "#     verbose=True,\n",
    "# )\n",
    "\n",
    "agent = OpenAIAgent.from_tools(\n",
    "    llm=llm,\n",
    "    tools=query_tools,\n",
    "    verbose=True,\n",
    "    memory=memory,\n",
    "    system_prompt=system_prompt,\n",
    "    callback_manager=callback_manager,\n",
    ")\n",
    "\n",
    "# agent = ReActAgent.from_tools(\n",
    "#     llm=llm,\n",
    "#     memory=memory,\n",
    "#     tools=query_tools,\n",
    "#     verbose=True,\n",
    "#     system_prompt=system_prompt,\n",
    "#     callback_manager=callback_manager,\n",
    "# )"
   ]
  },
  {
   "cell_type": "code",
   "execution_count": 128,
   "metadata": {},
   "outputs": [
    {
     "name": "stdout",
     "output_type": "stream",
     "text": [
      "Added user message to memory: Berapa nilai SWDKLLJ Jeep?\n",
      "=== Calling Function ===\n",
      "Calling function: bi_ojk with args: {\"input\":\"nilai SWDKLLJ Jeep\"}\n"
     ]
    },
    {
     "name": "stderr",
     "output_type": "stream",
     "text": [
      "100%|██████████| 6/6 [00:01<00:00,  5.83it/s]\n"
     ]
    },
    {
     "name": "stdout",
     "output_type": "stream",
     "text": [
      "Got output: The SWDKLLJ for a Jeep according to the regulation varies depending on the engine capacity. For a Jeep with an engine capacity up to 1600 cc, the SWDKLLJ amount is Rp 140.000,00 (seratus empat puluh ribu rupiah).\n",
      "========================\n",
      "\n",
      "**********\n",
      "Trace: chat\n",
      "    |_agent_step -> 6.049404 seconds\n",
      "      |_llm -> 0.836425 seconds\n",
      "      |_function_call -> 4.134056 seconds\n",
      "      |_llm -> 1.071843 seconds\n",
      "**********\n"
     ]
    }
   ],
   "source": [
    "# response_openai = agent_openai.chat(query_str)\n",
    "# response_react = agent_react.chat(query_str)\n",
    "response = agent.chat(message=query_str)"
   ]
  },
  {
   "cell_type": "code",
   "execution_count": 129,
   "metadata": {},
   "outputs": [
    {
     "data": {
      "text/plain": [
       "{'file_name': 'ojk-klasifikasi_bapepam-36_pmk_010_2008-26022008-pmk_nomor_36pmk_010_tahun_2008_tentang_besar_santunan_dan_sumbangan_wajib_dana_kecelakaan_lalu_lintas_jalan_menas13_1389258036_pdf.pdf',\n",
       " 'title': 'Peraturan Menteri Keuangan Nomor 36/PMK.010/2008 tentang Besar Santunan dan Sumbangan Wajib Dana Kecelakaan Lalu Lintas Jalan',\n",
       " 'sector': 'IKNB',\n",
       " 'subsector': 'Asuransi',\n",
       " 'regulation_type': 'Klasifikasi Bapepam',\n",
       " 'regulation_number': '36/PMK.010/2008',\n",
       " 'effective_date': '26 Februari 2008',\n",
       " 'questions_this_excerpt_can_answer': '1. What is the effective date of Peraturan Menteri Keuangan Nomor 36/PMK.010/2008 tentang Besar Santunan dan Sumbangan Wajib Dana Kecelakaan Lalu Lintas Jalan?\\n- The effective date of the regulation is 26 Februari 2008.\\n\\n2. How much is the maximum amount of medical treatment that a victim of a traffic accident is entitled to under this regulation?\\n- The maximum amount of medical treatment that a victim is entitled to is Rp 10.000.000,00 (ten million rupiah).\\n\\n3. What is the amount of burial expenses given to the party responsible for the burial if the victim of a traffic accident does not have any heirs?\\n- The amount of burial expenses given is Rp 2.000.000,00 (two million rupiah).\\n\\n4. Who is required to pay the Sumbangan Wajib Dana Kecelakaan Lalu Lintas Jalan (SWDKLLJ) according to this regulation?\\n- The SWDKLLJ is collected from the owners of traffic transportation vehicles.\\n\\n5. How much is the SWDKLLJ for different types of vehicles according to this regulation?\\n- The SWDKLLJ varies depending on the type of vehicle, ranging from being exempted for certain vehicles to amounts such as Rp 20.000,00 (twenty thousand rupiah) for tractors, buldozers, forklifts, etc.',\n",
       " 'prev_section_summary': 'The key topics of the section are the Peraturan Menteri Keuangan Nomor 36/PMK.010/2008, which is a regulation regarding the size of compensation and mandatory contributions for traffic accident victims. The section also mentions other related regulations and decisions, such as Peraturan Pemerintah Nomor 39 Tahun 1980 and Keputusan Menteri Keuangan Nomor 337/KMK.011/1981. The entities mentioned in the section include Jasa Raharja, a state-owned insurance company, and the victims and heirs of traffic accidents.',\n",
       " 'section_summary': 'The key topics of the section are the Peraturan Menteri Keuangan Nomor 36/PMK.010/2008 tentang Besar Santunan dan Sumbangan Wajib Dana Kecelakaan Lalu Lintas Jalan, which is a regulation regarding the amount of compensation and mandatory contributions for traffic accident victims. The section also discusses the effective date of the regulation, the maximum amount of medical treatment for victims, burial expenses, the collection of Sumbangan Wajib Dana Kecelakaan Lalu Lintas Jalan (SWDKLLJ), and the different amounts of SWDKLLJ for different types of vehicles. The entities mentioned in the section include the owners of traffic transportation vehicles, victims of traffic accidents, and the party responsible for burial expenses.'}"
      ]
     },
     "execution_count": 129,
     "metadata": {},
     "output_type": "execute_result"
    }
   ],
   "source": [
    "response.source_nodes[0].metadata"
   ]
  },
  {
   "cell_type": "code",
   "execution_count": 130,
   "metadata": {},
   "outputs": [
    {
     "data": {
      "text/markdown": [
       "**`Final Response:`** Nilai SWDKLLJ untuk Jeep dengan kapasitas mesin hingga 1600 cc adalah Rp 140.000,00."
      ],
      "text/plain": [
       "<IPython.core.display.Markdown object>"
      ]
     },
     "metadata": {},
     "output_type": "display_data"
    }
   ],
   "source": [
    "from llama_index.core.response.notebook_utils import display_response\n",
    "\n",
    "display_response(response=response)"
   ]
  },
  {
   "cell_type": "code",
   "execution_count": 131,
   "metadata": {},
   "outputs": [
    {
     "name": "stdout",
     "output_type": "stream",
     "text": [
      "**********\n",
      "id:  092263a4-30e0-4deb-8607-87a5cae21be5\n",
      "content:\n",
      " c. Korban yang memerlukan perawatan dan pengobatan berhak pengobatan dokter paling besar Rp 10.000.000,00 (sepuluh juta rupiah). Pasal 3 Dalam hal korban meninggal dunia akibat kecelakaan alat angkutan lalu lintas jalan tidak mempunyai ahli waris, kepada pihak yang menyelenggarakan penguburan  diberikan  penggantian biaya penguburan sebesar Rp 2.000.000,00 (dua juta rupiah). Pasal 4 (1) SWDKLLJ dipungut dari para pengusaha/ pemilik alat angkutan lalu lintas jalan. (2) Besar SWDKLLJ sebagaimana dimaksud pada ayat (1) ditentukan sebagai berikut: a.  Sepeda motor di bawah 50 cc, mobil ambulance, mobil jenazah dan mobil pemadam kebakaran dibebaskan dari kewajiban membayar SWDKLLJ. b. Traktor, buldozer, forklift, mobil derek, excavator, crane dan sejenisnya sebesar Rp 20.000,00 (dua puluh ribu rupiah) C. s  Sepeda motor, sepeda kumbang dan scooter di atas 50 cc sampai 250 cc dan kendaraan bermotor roda tiga sebesar Rp 32.000,00 (tiga puluh dua ribu rupiah). d. Sepeda motor di atas 250 cc sebesar Rp 80.000,00 (delapan puluh ribu rupiah). e. Pick up/mobil barang sampai dengan 2400 cc, sedan, jeep dan mobil penumpang bukan angkutan umum sebesar Rp140.000,00 (seratus empat puluh ribu rupiah). MENTERI KEUANGAN REPUBLIK INDONESIA -4- f. Mobil penumpang angkutan umum sampai dengan 1600 cc sebesar Rp70.000,00 (tujuh puluh ribu rupiah). g. Bus dan mikro bus bukan angkutan umum sebesar Rp150.000,00 (seratus lima puluh ribu rupiah). h. Bus dan mikro bus angkutan umum, serta mobil penumpang angkutan umum lainnya di atas 1600 cc sebesar Rp87.000,00 (delapan puluh tujuh ribu rupiah). i. Truk, mobil tangki, mobil gandengan, mobil barang di atas 2400 enam puluh ribu rupiah) Pasal 5 Setiap jenis kendaraan sebagaimana dimaksud dalam Pasal 4, dikenakan biaya penggantian pembuatan Kartu Dana/Sertifikat sebesar Rp 3.000,00 (tiga ribu rupiah). Pasal 6 (1) Pelunasan SWDKLLJ sebagaimana dimaksud dalam Pasal 4 dilakukan paling lambat pada tanggal jatuh tempo pengesahan ulang setiap tahun atau pendaftaran/perpanjangan ulang Surat Tanda Nomor Kendaraan Bermotor sesuai dengan ketentuan peraturan perundang-undangan yang berlaku.\n",
      "reranking score:  0.03333333333333333\n",
      "**********\n",
      "\n",
      "\n",
      "**********\n",
      "id:  3c432b83-dd73-4e43-a876-cae990e058fa\n",
      "content:\n",
      " i. Truk, mobil tangki, mobil gandengan, mobil barang di atas 2400 enam puluh ribu rupiah) Pasal 5 Setiap jenis kendaraan sebagaimana dimaksud dalam Pasal 4, dikenakan biaya penggantian pembuatan Kartu Dana/Sertifikat sebesar Rp 3.000,00 (tiga ribu rupiah). Pasal 6 (1) Pelunasan SWDKLLJ sebagaimana dimaksud dalam Pasal 4 dilakukan paling lambat pada tanggal jatuh tempo pengesahan ulang setiap tahun atau pendaftaran/perpanjangan ulang Surat Tanda Nomor Kendaraan Bermotor sesuai dengan ketentuan peraturan perundang-undangan yang berlaku. (2) Dalam hal pembayaran SWDKLLJ dilakukan setelah melewati batas waktu sebagaimana dimaksud pada ayat (1), maka dikenakan denda sebesar 100% (seratus persen) dari jumlah SWDKLLJ yang seharusnya dibayar dengan ketentuan denda yang dikenakan paling besar Rp100.000,00 (seratus ribu rupiah). (3) Dalam hal ketentuan mengenai batas waktu sebagaimana dimaksud pada ayat (1) tidak dapat dipenuhi karena pertimbangan kondisi geografis daerah setempat, Direksi perusahaan yang ditunjuk untuk menyelenggarakan Dana, Kecelakaan Lalu Lintas Jalan diberi kewenangan untuk menetapkan batas waktu pelunasan dan besarnya denda SWDKLLJ, dengan ketentuan batas waktu dimaksud paling lama 15 (lima belas) hari kerja MENTERI KEUANGAN REPUBLIK INDONESIA -5- Pasal 7 Dalam hal Pemerintah Daerah melakukan pembebasan terhadap Pajak Kendaraan Bermotor yang tertunggak untuk tahun yang lewat, Direksi perusahaan yang ditunjuk untuk menyelenggarakan Dana Kecelakaan SWDKLLJ, Kartu Dana/Sertifikat, dan besar denda SWDKLLJ yang tertunggak untuk tahun yang lewat, dengan mempertimbangkan kebijakan Pemerintah Daerah setempat. Pasal 8 Pada saat Peraturan Menteri Keuangan ini mulai berlaku, Keputusan Menteri Keuangan Nomor 416/KMK.06/2001 tentang Penietapan Santunan dan Sumbangan Wajib Dana Kecelakaan Lalu Lintas Jalan, dicabut dan dinyatakan tidak berlaku Pasal 9 Peraturan Menteri Keuangan ini mulai berlaku setelah 30 (tiga puluh) hari sejak tanggal ditetapkan. Agar setiap orang mengetahuinya, memerintahkan pengumuman Negara Republik Indonesia Ditetapkan di Jakarta pada tanggal 26 Februari 2008 MENTERI KEUANGAN ttd Salinan sesuai dengan aslinya SRI MULYANI INDRAWATI Riro Umum an Tata Usaha Departemen Tharto T060041107\n",
      "reranking score:  0.03278688524590164\n",
      "**********\n",
      "\n",
      "\n",
      "**********\n",
      "id:  1636ede3-5b10-4790-bfd0-4d41f3d38f19\n",
      "content:\n",
      " Peraturan Pemerintah Nomor 39 Tahun 1980 tentang Pengalihan Bentuk Perusahaan Umum Asuransi Kerugian \"Jasa Raharja menjadi Perusahaan Perseroan (Persero (Lembaran Negara Republik Indonesia Tahun 1980 Nomor 62); MENTERI KEUANGAN REPUBLIK INDONESIA -2- 5. Peraturan Penyelenggaraan Usaha Perasuransian (Lembaran Negara Republik Republik Indonesia Nomor 3506) sebagaimana telah diubah dengan Republik Indonesia Tahun 1999 Nomor 118, Tambahan Lembaran Negara Republik Indonesia Nomor 3861); 6. Keputusan Presiden Nomor 20/P Tahun 2005 7. Keputusan Menteri Keuangan Nomor 337/KMK.011/1981 tentang Penunjukan Perusahaan Perseroan (Persero) Asuransi Kerugian Jasa Raharja untuk menyelenggarakan Dana Pertanggungan Wajib Kecelakaan Penumpang dan Dana Kecelakaan Lalu Lintas Jalan; MEMUTUSKAN: Menetapkan : PERATURAN MENTERI  KEUANGAN TENTANG BESAR SANTUNAN DAN SUMBANGAN WAJIB DANA KECELAKAAN LALU LINTAS JALAN: Pasal 1 (1) Sumbangan Wajib Dana Kecelakaan Lalu Lintas Jalan, yang selanjutnya disebut SWDKLLJ, adalah sumbangan wajib sebagaimana dimaksud dalam Undang-Undang Nomor 34 Tahun 1964 tentang Dana Kecelakaan Lalu Lintas Jalan juncto Peraturan Pemerintah Nomor 18 Tahun 1965 tentang Ketentuan-ketentuan Pelaksanaan Dana Kecelakaan Lalu Lintas Jalan. 2) SWDKLLJ merupakan premi asuransi yang dibayarkan oleh para Jalan. Pasal 2 (1) Korban kecelakaan alat angkutan lalu lintas jalan atau ahli warisnya berhak atas santunan. (2) Besar santunan sebagaimana dimaksud pada ayat (1) ditentukan sebagai berikut: MENTERI KEUANGAN REPUBLIKINDONESIA -3- a. Ahli waris dari korban yang meninggal dunia berhak juta rupiah). b. Korban yang mengalami cacat tetap berhak memperoleh santunan yang besarnya dihitung berdasarkan angka prosentase sebagaimana ditetapkan dalam Pasal 10 ayat (3) Peraturan Pemerintah Nomor 18 Tahun 1965 dari besar santunan meninggal dunia sebagaimana dimaksud dalam huruf (a). c. Korban yang memerlukan perawatan dan pengobatan berhak pengobatan dokter paling besar Rp 10.000.000,00 (sepuluh juta rupiah). Pasal 3 Dalam hal korban meninggal dunia akibat kecelakaan alat angkutan lalu lintas jalan tidak mempunyai ahli waris, kepada pihak yang menyelenggarakan penguburan  diberikan  penggantian biaya penguburan sebesar Rp 2.000.000,00 (dua juta rupiah).\n",
      "reranking score:  0.03225806451612903\n",
      "**********\n",
      "\n",
      "\n",
      "**********\n",
      "id:  968bb864-78fd-444b-a491-b4ffab607a62\n",
      "content:\n",
      " MENTERI KEUANGAN REPUBLIK INDONESIA SALINAN PERATURAN MENTERI KEUANGAN NOMOR 36 /PMK.010/2008 TENTANG BESAR SANTUNAN DAN SUMBANGAN WAJIB DANA KECELAKAAN LALU LINTAS JALAN MENTERI KEUANGAN Menimbang : a. bahwa untuk memenuhi kecukupan sosial (social adequacy) dalam korban kecelakaan alat angkutan lalu-lintas jalan,: perlu meningkatkan besar santunan   dengan mempertimbangkan peningkatan kebutuhan hidup dan tingkat inflasi; b. bahwa sehubungan dengan huruf a tersebut, perlu melakukan penyesuaian terhadap ketentuan yang mengatur mengenai besar santunan dan Sumbangan Wajib Dana Kecelakaan Lalu Lintas Jalan; c. bahwa berdasarkan pertimbangan sebagaimana di maksud dalam huruf a dan huruf b, perlu menetapkan Peraturan Menteri Keuangan tentang Besar Santunan dan Sumbangan Wajib Dana Kecelakaan Lalu Lintas Jalan; Mengingat : 1. Undang-Undang Nomor 34 Tahun 1964 tentang Dana Kecelakaan Lalu Lintas.Jalan (Lembaran Negara Republik Indonesia Tahun 1964 Nomor 2721); 2. Undang-Undang Nomor 2 Tahun 1992 tentang Usaha Perasuransian (Lembaran Negara Republik Indonesia Tahun 1992 Nomor 13, Tambahan Lembaran Negara Republik Indonesia Nomor 3467); 3. Peraturan Pemerintah Nomor 18 Tahun 1965 tentang Ketentuan ketentuan Pelaksanaan Dana Kecelakaan Lalu Lintas Jalan (Lembaran Negara Republik Indonesia Tahun 1965 Nomor 29); 4. Peraturan Pemerintah Nomor 39 Tahun 1980 tentang Pengalihan Bentuk Perusahaan Umum Asuransi Kerugian \"Jasa Raharja menjadi Perusahaan Perseroan (Persero (Lembaran Negara Republik Indonesia Tahun 1980 Nomor 62); MENTERI KEUANGAN REPUBLIK INDONESIA -2- 5. Peraturan Penyelenggaraan Usaha Perasuransian (Lembaran Negara Republik Republik Indonesia Nomor 3506) sebagaimana telah diubah dengan Republik Indonesia Tahun 1999 Nomor 118, Tambahan Lembaran Negara Republik Indonesia Nomor 3861); 6. Keputusan Presiden Nomor 20/P Tahun 2005 7. Keputusan Menteri Keuangan Nomor 337/KMK.011/1981 tentang Penunjukan Perusahaan Perseroan (Persero) Asuransi Kerugian Jasa Raharja untuk menyelenggarakan Dana Pertanggungan Wajib Kecelakaan Penumpang dan Dana Kecelakaan Lalu Lintas Jalan; MEMUTUSKAN: Menetapkan : PERATURAN MENTERI  KEUANGAN TENTANG BESAR SANTUNAN DAN SUMBANGAN WAJIB DANA KECELAKAAN LALU LINTAS JALAN: Pasal 1 (1) Sumbangan Wajib Dana Kecelakaan Lalu Lintas Jalan, yang selanjutnya disebut SWDKLLJ, adalah sumbangan wajib sebagaimana dimaksud dalam Undang-Undang Nomor 34 Tahun 1964 tentang Dana Kecelakaan Lalu Lintas Jalan juncto Peraturan Pemerintah Nomor 18 Tahun 1965 tentang Ketentuan-ketentuan Pelaksanaan Dana Kecelakaan Lalu Lintas Jalan. 2) SWDKLLJ merupakan premi asuransi yang dibayarkan oleh para Jalan. Pasal 2 (1) Korban kecelakaan alat angkutan lalu lintas jalan atau ahli warisnya berhak atas santunan. (2) Besar santunan sebagaimana dimaksud pada ayat (1) ditentukan sebagai berikut: MENTERI KEUANGAN REPUBLIKINDONESIA -3- a. Ahli waris dari korban yang meninggal dunia berhak juta rupiah). b. Korban yang mengalami cacat tetap berhak memperoleh santunan yang besarnya dihitung berdasarkan angka prosentase sebagaimana ditetapkan dalam Pasal 10 ayat (3) Peraturan Pemerintah Nomor 18 Tahun 1965 dari besar santunan meninggal dunia sebagaimana dimaksud dalam huruf (a). c. Korban yang memerlukan perawatan dan pengobatan berhak pengobatan dokter paling besar Rp 10.000.000,00 (sepuluh juta rupiah). Pasal 3 Dalam hal korban meninggal dunia akibat kecelakaan alat angkutan lalu lintas jalan tidak mempunyai ahli waris, kepada pihak yang menyelenggarakan penguburan  diberikan  penggantian biaya penguburan sebesar Rp 2.000.000,00 (dua juta rupiah). Pasal 4 (1) SWDKLLJ dipungut dari para pengusaha/ pemilik alat angkutan lalu lintas jalan. (2) Besar SWDKLLJ sebagaimana dimaksud pada ayat (1) ditentukan sebagai berikut: a.  Sepeda motor di bawah 50 cc, mobil ambulance, mobil jenazah dan mobil pemadam kebakaran dibebaskan dari kewajiban membayar SWDKLLJ. b. Traktor, buldozer, forklift, mobil derek, excavator, crane dan sejenisnya sebesar Rp 20.000,00 (dua puluh ribu rupiah) C. s  Sepeda motor, sepeda kumbang dan scooter di atas 50 cc sampai 250 cc dan kendaraan bermotor roda tiga sebesar Rp 32.000,00 (tiga puluh dua ribu rupiah). d. Sepeda motor di atas 250 cc sebesar Rp 80.000,00 (delapan puluh ribu rupiah). e. Pick up/mobil barang sampai dengan 2400 cc, sedan, jeep dan mobil penumpang bukan angkutan umum sebesar Rp140.000,00 (seratus empat puluh ribu rupiah). MENTERI KEUANGAN REPUBLIK INDONESIA -4- f. Mobil penumpang angkutan umum sampai dengan 1600 cc sebesar Rp70.000,00 (tujuh puluh ribu rupiah). g. Bus dan mikro bus bukan angkutan umum sebesar Rp150.000,00 (seratus lima puluh ribu rupiah). h. Bus dan mikro bus angkutan umum, serta mobil penumpang angkutan umum lainnya di atas 1600 cc sebesar Rp87.000,00 (delapan puluh tujuh ribu rupiah). i. Truk, mobil tangki, mobil gandengan, mobil barang di atas 2400 enam puluh ribu rupiah) Pasal 5 Setiap jenis kendaraan sebagaimana dimaksud dalam Pasal 4, dikenakan biaya penggantian pembuatan Kartu Dana/Sertifikat sebesar Rp 3.000,00 (tiga ribu rupiah). Pasal 6 (1) Pelunasan SWDKLLJ sebagaimana dimaksud dalam Pasal 4 dilakukan paling lambat pada tanggal jatuh tempo pengesahan ulang setiap tahun atau pendaftaran/perpanjangan ulang Surat Tanda Nomor Kendaraan Bermotor sesuai dengan ketentuan peraturan perundang-undangan yang berlaku. (2) Dalam hal pembayaran SWDKLLJ dilakukan setelah melewati batas waktu sebagaimana dimaksud pada ayat (1), maka dikenakan denda sebesar 100% (seratus persen) dari jumlah SWDKLLJ yang seharusnya dibayar dengan ketentuan denda yang dikenakan paling besar Rp100.000,00 (seratus ribu rupiah). (3) Dalam hal ketentuan mengenai batas waktu sebagaimana dimaksud pada ayat (1) tidak dapat dipenuhi karena pertimbangan kondisi geografis daerah setempat, Direksi perusahaan yang ditunjuk untuk menyelenggarakan Dana, Kecelakaan Lalu Lintas Jalan diberi kewenangan untuk menetapkan batas waktu pelunasan dan besarnya denda SWDKLLJ, dengan ketentuan batas waktu dimaksud paling lama 15 (lima belas) hari kerja MENTERI KEUANGAN REPUBLIK INDONESIA -5- Pasal 7 Dalam hal Pemerintah Daerah melakukan pembebasan terhadap Pajak Kendaraan Bermotor yang tertunggak untuk tahun yang lewat, Direksi perusahaan yang ditunjuk untuk menyelenggarakan Dana Kecelakaan SWDKLLJ, Kartu Dana/Sertifikat, dan besar denda SWDKLLJ yang tertunggak untuk tahun yang lewat, dengan mempertimbangkan kebijakan Pemerintah Daerah setempat. Pasal 8 Pada saat Peraturan Menteri Keuangan ini mulai berlaku, Keputusan Menteri Keuangan Nomor 416/KMK.06/2001 tentang Penietapan Santunan dan Sumbangan Wajib Dana Kecelakaan Lalu Lintas Jalan, dicabut dan dinyatakan tidak berlaku Pasal 9 Peraturan Menteri Keuangan ini mulai berlaku setelah 30 (tiga puluh) hari sejak tanggal ditetapkan. Agar setiap orang mengetahuinya, memerintahkan pengumuman Negara Republik Indonesia Ditetapkan di Jakarta pada tanggal 26 Februari 2008 MENTERI KEUANGAN ttd Salinan sesuai dengan aslinya SRI MULYANI INDRAWATI Riro Umum an Tata Usaha Departemen Tharto T060041107 \n",
      "reranking score:  0.016666666666666666\n",
      "**********\n",
      "\n",
      "\n",
      "**********\n",
      "id:  acc22061-783c-4a9c-9e05-89dd382366cb\n",
      "content:\n",
      "         IV. PENUTUP…    Yth.   Direksi Emiten dan Perusahaan Publik  di tempat.     SALINAN  SURAT EDARAN OTORITAS JASA KEUANGAN  NOMOR 1/SEOJK.04/2013  TENTANG  KONDISI LAIN SEBAGAI KONDISI PASAR YANG BERFLUKTUASI SECARA SIGNIFIKAN  DALAM PELAKSANAAN PEMBELIAN KEMBALI SAHAM YANG DIKELUARKAN OLEH  EMITEN ATAU PERUSAHAAN PUBLIK      Sehubungan dengan Peraturan Otoritas Jasa Keuangan Nomor 2/POJK.04/2013  tentang Pembelian Kembali Saham Yang Dikeluarkan Oleh Emiten Atau Perusahaan  Publik Dalam Kondisi Pasar Yang Berfluktuasi Secara Signifikan, selanjutnya disebut  POJK Nomor 2/POJK.04/2013, perlu mengatur kondisi lain selain yang telah ditetapkan  dalam POJK Nomor 2/POJK.04/2013 dimaksud, dalam Surat Edaran Otoritas Jasa  Keuangan sebagai berikut:  I. KETENTUAN UMUM   1.   Bahwa kondisi perdagangan saham di Bursa Efek Indonesia dalam 3 (tiga) bulan  terakhir mengalami tekanan yang tercermin dari Indeks Harga Saham Gabungan  Bursa Efek Indonesia yang mengalami penurunan cukup signifikan.  2.  Bahwa kondisi perekonomian masih mengalami tekanan baik regional maupun  nasional.  3.  Bahwa dalam rangka mengurangi dampak pasar yang berfluktuasi secara  signifikan sebagaimana dimaksud dalam angka 1, maka diperlukan kemudahan  bagi Emiten atau Perusahaan Publik untuk melakukan aksi korporasi pembelian  saham kembali tanpa melanggar ketentuan peraturan perundang-undangan  yang berlaku.  4.  Bahwa berdasarkan Pasal 1 angka 1 huruf b POJK Nomor 2/POJK.04/2013,  Otoritas Jasa Keuangan menetapkan kondisi lain sebagaimana diamanatkan  dalam POJK Nomor 2/POJK.04/2013.  II. PENETAPAN KONDISI LAIN SEBAGAIMANA DIMAKSUD DALAM PASAL 1 ANGKA 1  HURUF b POJK  NOMOR 2/POJK.04/2013  Berdasarkan pertimbangan sebagaimana dimaksud angka I, maka penurunan  Indeks Harga Saham Gabungan Bursa Efek Indonesia sejak tanggal 20 Mei 2013  sampai dengan tanggal 27 Agustus 2013 ini sebesar 1.247,134 poin atau 23,91%  (dua puluh tiga koma sembilan satu perseratus) ditetapkan sebagai Kondisi Lain  sebagaimana dimaksud Pasal 1 angka 1 huruf b POJK Nomor 2/POJK.04/2013.   III. PELAKSANAAN PEMBELIAN KEMBALI SAHAM OLEH EMITEN ATAU PERUSAHAAN  PUBLIK   Emiten atau Perusahaan Publik dapat melakukan pembelian kembali sahamnya  berdasarkan mekanisme yang diatur dalam POJK Nomor 2/POJK.04/2013.      -2-    IV. PENUTUP   Ketentuan dalam Surat Edaran Otoritas Jasa Keuangan ini mulai berlaku pada  tanggal ditetapkan sampai dengan tanggal dicabutnya Surat Edaran ini.      Agar setiap orang mengetahuinya, memerintahkan pengumuman Surat Edaran  Otoritas Jasa Keuangan ini dengan penempatannya dalam Berita Negara Republik  Indonesia.    Ditetapkan di Jakarta   pada tanggal 27 Agustus 2013     KEPALA EKSEKUTIF   PENGAWAS PASAR MODAL,       Ttd.      NURHAIDA       Salinan sesuai dengan aslinya  Kepala Divisi Bantuan Hukum  Direktorat Hukum,    Ttd.    Mufli Asmawidjaja  \n",
      "reranking score:  0.01639344262295082\n",
      "**********\n",
      "\n",
      "\n"
     ]
    }
   ],
   "source": [
    "for node in response.source_nodes:\n",
    "    print(\"**********\")\n",
    "    print(\"id: \", node.id_)\n",
    "    print(\"content:\\n\", node.node.get_content())\n",
    "    if node.score:\n",
    "        print(\"reranking score: \", node.score)\n",
    "    if node.node.metadata.get(\"retrieval_score\"):\n",
    "        print(\"retrieval score: \", node.node.metadata[\"retrieval_score\"])\n",
    "    print(\"**********\")\n",
    "    print(\"\\n\")"
   ]
  },
  {
   "cell_type": "code",
   "execution_count": 132,
   "metadata": {},
   "outputs": [],
   "source": [
    "chat_store_string = chat_store.json()\n",
    "loaded_chat_store = SimpleChatStore.parse_raw(chat_store_string)"
   ]
  }
 ],
 "metadata": {
  "kernelspec": {
   "display_name": "chatbot",
   "language": "python",
   "name": "python3"
  },
  "language_info": {
   "codemirror_mode": {
    "name": "ipython",
    "version": 3
   },
   "file_extension": ".py",
   "mimetype": "text/x-python",
   "name": "python",
   "nbconvert_exporter": "python",
   "pygments_lexer": "ipython3",
   "version": "3.9.19"
  }
 },
 "nbformat": 4,
 "nbformat_minor": 2
}
