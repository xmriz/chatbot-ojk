{
 "cells": [
  {
   "cell_type": "markdown",
   "metadata": {},
   "source": [
    "# **OJKGPT**\n",
    "\n",
    "This is the Jupyter Notebook for the development of the 1st version of OJKGPT for the showcase demo capabilites to wealth team program. <br>\n",
    "In this development, we use several data sources for enriching the RAG system of the chatbot. "
   ]
  },
  {
   "cell_type": "code",
   "execution_count": 1,
   "metadata": {},
   "outputs": [
    {
     "data": {
      "text/plain": [
       "True"
      ]
     },
     "execution_count": 1,
     "metadata": {},
     "output_type": "execute_result"
    }
   ],
   "source": [
    "from dotenv import load_dotenv\n",
    "\n",
    "load_dotenv()"
   ]
  },
  {
   "cell_type": "code",
   "execution_count": 2,
   "metadata": {},
   "outputs": [],
   "source": [
    "import logging\n",
    "import sys\n",
    "\n",
    "logging.basicConfig(stream=sys.stdout, level=logging.INFO)\n",
    "logging.getLogger().addHandler(logging.StreamHandler(stream=sys.stdout))"
   ]
  },
  {
   "cell_type": "code",
   "execution_count": 3,
   "metadata": {},
   "outputs": [],
   "source": [
    "from utils.models_define import ModelName\n",
    "\n",
    "# storing or not\n",
    "STORE = False\n",
    "DELETE = False\n",
    "model_name = ModelName.AZURE_OPENAI"
   ]
  },
  {
   "cell_type": "markdown",
   "metadata": {},
   "source": [
    "## **LLM Models Define**"
   ]
  },
  {
   "cell_type": "code",
   "execution_count": 4,
   "metadata": {},
   "outputs": [],
   "source": [
    "from llama_index.core import Settings\n",
    "from utils.models_define import get_llm_and_embedding\n",
    "\n",
    "# ollama/openai/azure_openai\n",
    "llm, embedding_llm = get_llm_and_embedding(model_name=model_name)\n",
    "\n",
    "Settings.llm = llm\n",
    "Settings.embed_model = embedding_llm"
   ]
  },
  {
   "cell_type": "markdown",
   "metadata": {},
   "source": [
    "## **Loading Documents**"
   ]
  },
  {
   "cell_type": "markdown",
   "metadata": {},
   "source": [
    "### **Document Reader and Node Parser**"
   ]
  },
  {
   "cell_type": "code",
   "execution_count": 5,
   "metadata": {},
   "outputs": [],
   "source": [
    "from utils.documents_reader import read_documents\n",
    "from utils.node_parser import parse_nodes\n",
    "from utils.doc_store import store_docstore, load_docstore\n",
    "\n",
    "path = './data'\n",
    "\n",
    "if STORE:\n",
    "    docs_all = read_documents(path=path)\n",
    "    nodes_all = parse_nodes(documents=docs_all, llm=llm)\n",
    "    docstore = store_docstore(documents=docs_all, delete=DELETE)\n",
    "else:\n",
    "    docstore = load_docstore()"
   ]
  },
  {
   "cell_type": "markdown",
   "metadata": {},
   "source": [
    "## **Indexing & Storing**"
   ]
  },
  {
   "cell_type": "code",
   "execution_count": 6,
   "metadata": {},
   "outputs": [
    {
     "name": "stdout",
     "output_type": "stream",
     "text": [
      "Loading the index completed.\n"
     ]
    }
   ],
   "source": [
    "from utils.vector_store import (store_vector_index, load_vector_index)\n",
    "\n",
    "# store\n",
    "if STORE:\n",
    "    index_all = store_vector_index(nodes=nodes_all,embed_model=embedding_llm, delete=DELETE)\n",
    "\n",
    "# load\n",
    "else:\n",
    "    index_all = load_vector_index()"
   ]
  },
  {
   "cell_type": "markdown",
   "metadata": {},
   "source": [
    "## **Querying**"
   ]
  },
  {
   "cell_type": "markdown",
   "metadata": {},
   "source": [
    "### **Retriever**"
   ]
  },
  {
   "cell_type": "code",
   "execution_count": 7,
   "metadata": {},
   "outputs": [],
   "source": [
    "from llama_index.retrievers.bm25 import BM25Retriever\n",
    "from utils.fusion_retriever import FusionRetriever\n",
    "\n",
    "vector_retriever_all = index_all.as_retriever(similarity_top_k=5)\n",
    "\n",
    "bm25_retriever = BM25Retriever.from_defaults(\n",
    "    docstore=docstore, similarity_top_k=5\n",
    ")\n",
    "\n",
    "fusion_retriever = FusionRetriever(\n",
    "    llm=llm,\n",
    "    retrievers=[vector_retriever_all, bm25_retriever],\n",
    "    similarity_top_k=5,\n",
    ")"
   ]
  },
  {
   "cell_type": "markdown",
   "metadata": {},
   "source": [
    "### **Query Engine**"
   ]
  },
  {
   "cell_type": "code",
   "execution_count": 8,
   "metadata": {},
   "outputs": [],
   "source": [
    "from llama_index.core.query_engine import RetrieverQueryEngine\n",
    "\n",
    "query_engine_all = RetrieverQueryEngine.from_args(retriever=fusion_retriever)"
   ]
  },
  {
   "cell_type": "code",
   "execution_count": 9,
   "metadata": {},
   "outputs": [],
   "source": [
    "# a = \"Apa judul peraturan 7/33/PBI/2005?\" # Pencabutan atas Peraturan Bank Indonesia Nomor 5/17/PBI/2003 tentang Persyaratan dan Tata Cara Pelaksanaan Jaminan Pemerintah terhadap Kewajiban Pembayaran Bank Perkreditan Rakyat\n",
    "b = \"Kapan surat edaran No. 15/26/DPbS mulai berlaku?\" # 1 Agustus 2013.\n",
    "# c = \"Siapa nama dan jabatannya yang menandatangani surat dengan nomor 1/SEOJK.04/2013?\" # NURHAIDA, kepala eksekutif pengawas pasar modal\n",
    "d = \"Saya ingin menyelenggarakan kegiatan pasar modal berikan saya nomor surat yang membahas mengenai hal ini!\" # 1/SEOJK.04/2013\n",
    "e = \"Berapa persen jaminan moneter pada tanggal 20 Agustus 1958?\" # 7,3%\n",
    "f = \"Surat edaran nomor berapa yang mengatur bank umum syariah dan unit usaha syariah?\" # 15/26/DPbS\n",
    "g = \"Apa kepanjangan dari PAPSI?\" # Pedoman Akuntansi Perbankan Syariah Indonesia\n",
    "h = \"apa judul peraturan nomor 112/KMK.03/2001?\" # Keputusan Menteri Keuangan tentang Pemotongan Pajak Penghasil Pasal 21 atas Penghasilan berupa Uang Pesangon, Uang Tebusan Pensiun, dan Tunjangan Hari Tua atau Jaminan Hari Tua\n",
    "i = \"Saya ingin membuat sistem informasi lembaga jasa keuangan, berikan nomor regulasi dari peraturan yang membahas tentang manejemen risiko nya!\" # 4/POJK.05/2021\n",
    "j = \"Apa kepanjangan dari SWDKLLJ?\" # Sumbangan Wajib Dana Kecelakaan Lalu Lintas Jalan\n",
    "k = \"Berapa nilai SWDKLLJ dari jeep?\" # Rp.140.000\n",
    "l = \"Apa latar belakang dari peraturan NOMOR 4/POJK.05/2021?\" # dalam bentuk list\n",
    "m = \"Apa itu LJKNB?\" # Lembaga Jasa Keuangan Non Bank\n",
    "n = \"Apakah KMK Nomor 462/KMK.04/1998 masih berlaku\" # tidak\n",
    "o = \"Apa itu Uang Pesangon?\" # penghasilan yang dibayarkan oleh pemberi kerja kepada karyawan dengan nama dan dalam bentuk apapun sehubungan dengan berakhirnya masa kerja atau terjadi pemutusan  hubungan kerja, termasuk uang penghargaan masa kerja dan uang  ganti kerugian\n",
    "p = \"Apa itu CKPN?\" # Cadangan Kerugian Penurunan Nilai.\n",
    "\n",
    "z = \"What is the limit of QRIS Transaction Nominal?\"\n",
    "\n",
    "query_str = o"
   ]
  },
  {
   "cell_type": "code",
   "execution_count": 10,
   "metadata": {},
   "outputs": [
    {
     "name": "stderr",
     "output_type": "stream",
     "text": [
      "100%|██████████| 6/6 [00:03<00:00,  1.68it/s]\n"
     ]
    }
   ],
   "source": [
    "response = query_engine_all.query(query_str)"
   ]
  },
  {
   "cell_type": "code",
   "execution_count": 11,
   "metadata": {},
   "outputs": [
    {
     "data": {
      "text/markdown": [
       "**`Final Response:`** Uang Pesangon adalah penghasilan yang diberikan oleh pemberi kerja kepada karyawan sebagai bentuk kompensasi atas berakhirnya masa kerja atau pemutusan hubungan kerja. Penghasilan ini mencakup uang penghargaan atas masa kerja dan uang ganti kerugian."
      ],
      "text/plain": [
       "<IPython.core.display.Markdown object>"
      ]
     },
     "metadata": {},
     "output_type": "display_data"
    }
   ],
   "source": [
    "from llama_index.core.response.notebook_utils import display_response\n",
    "\n",
    "display_response(response)"
   ]
  },
  {
   "cell_type": "markdown",
   "metadata": {},
   "source": [
    "## **Build Agent**"
   ]
  },
  {
   "cell_type": "code",
   "execution_count": 12,
   "metadata": {},
   "outputs": [],
   "source": [
    "from llama_index.core.tools import QueryEngineTool, ToolMetadata\n",
    "\n",
    "query_tools = [\n",
    "    QueryEngineTool(\n",
    "        query_engine=query_engine_all,\n",
    "        metadata=ToolMetadata(\n",
    "            name=\"vector_tool_all\",\n",
    "            description=\"Useful for retrieving answers from the document store and the vector index.\",\n",
    "        )\n",
    "    ),\n",
    "]"
   ]
  },
  {
   "cell_type": "code",
   "execution_count": 13,
   "metadata": {},
   "outputs": [],
   "source": [
    "system_prompt = \"\"\"\n",
    "You are a chatbot able to help answer questions about various types of regulations in Indonesia, including those from OJK, Bapepam, Bank Indonesia, and more.\n",
    "\n",
    "You MUST reply based on the user's language.\n",
    "You must ALWAYS use the vector search tool when answering a question.\n",
    "You are NOT ALLOWED to hallucinate.\n",
    "You are ONLY ALLOWED to answer the question based on documents that you have been trained on.\n",
    "\n",
    "These are the regulations available:\n",
    "- Peraturan OJK\n",
    "- Surat Edaran OJK\n",
    "- PPBI\n",
    "- Klasifikasi Bapepam\n",
    "- SEBI\n",
    "- Peraturan Keputusan Menteri\n",
    "- Peraturan Bapepam\n",
    "- Undang-Undang\n",
    "- Peraturan Pemerintah\n",
    "\n",
    "You are designed to answer queries from the user which includes but is not limited to: Summarizing contents, answering specific articles/sections of the regulation, etc.\n",
    "You have access to a vector search tool to help you find relevant information in the regulations database.\n",
    "Given the context information and not prior knowledge, answer the query using the vector search tool provided.\n",
    "Use the previous chat history, or the context above, to interact and help the user.\n",
    "----------------------------------------------\n",
    "Query: {query_str}\n",
    "Vector Search Results: {query_results}\n",
    "Answer: {answer}\n",
    "\"\"\""
   ]
  },
  {
   "cell_type": "code",
   "execution_count": 14,
   "metadata": {},
   "outputs": [],
   "source": [
    "from llama_index.core.storage.chat_store import SimpleChatStore\n",
    "from llama_index.core.memory import ChatMemoryBuffer\n",
    "\n",
    "chat_store = SimpleChatStore()\n",
    "memory = ChatMemoryBuffer.from_defaults(\n",
    "    token_limit=10000,\n",
    "    chat_store=chat_store,\n",
    "    chat_store_key=\"user1\",\n",
    ")"
   ]
  },
  {
   "cell_type": "code",
   "execution_count": 15,
   "metadata": {},
   "outputs": [],
   "source": [
    "# from utils.custom_agent import YourOpenAIAgent, CustomAgent\n",
    "from llama_index.agent.openai import OpenAIAgent\n",
    "from llama_index.core.agent.legacy.react.base import ReActAgent\n",
    "\n",
    "# agent = custom_agent(\n",
    "#     llm=llm,\n",
    "#     query_engine_tools=query_tools,\n",
    "#     verbose=True,\n",
    "# )\n",
    "\n",
    "# agent = YourOpenAIAgent(\n",
    "#     llm=llm,\n",
    "#     tools=query_tools,\n",
    "# )\n",
    "\n",
    "# agent = CustomAgent(\n",
    "#     llm=llm,\n",
    "#     query_engine_tools=query_tools,\n",
    "#     verbose=True,\n",
    "# )\n",
    "\n",
    "agent_openai = OpenAIAgent.from_tools(\n",
    "    llm=llm,\n",
    "    tools=query_tools,\n",
    "    verbose=True,\n",
    "    memory=memory,\n",
    "    system_prompt=system_prompt,\n",
    ")\n",
    "\n",
    "agent_react = ReActAgent.from_tools(\n",
    "    llm=llm,\n",
    "    memory=memory,\n",
    "    tools=query_tools,\n",
    "    verbose=True,\n",
    "    system_prompt=system_prompt,\n",
    ")"
   ]
  },
  {
   "cell_type": "code",
   "execution_count": 16,
   "metadata": {},
   "outputs": [
    {
     "name": "stdout",
     "output_type": "stream",
     "text": [
      "Added user message to memory: Apa itu Uang Pesangon?\n",
      "\u001b[1;3;38;5;200mThought: The current language of the user is: Indonesian. I need to use a tool to help me answer the question.\n",
      "Action: vector_tool_all\n",
      "Action Input: {'input': 'Apa itu Uang Pesangon?'}\n",
      "\u001b[0m"
     ]
    },
    {
     "name": "stderr",
     "output_type": "stream",
     "text": [
      "100%|██████████| 6/6 [00:02<00:00,  2.56it/s]\n"
     ]
    },
    {
     "name": "stdout",
     "output_type": "stream",
     "text": [
      "\u001b[1;3;34mObservation: Uang Pesangon adalah penghasilan yang diberikan oleh pemberi kerja kepada karyawan sebagai bentuk kompensasi atas berakhirnya masa kerja atau pemutusan hubungan kerja. Penghasilan ini mencakup uang penghargaan atas masa kerja dan uang ganti kerugian.\n",
      "\u001b[0m\u001b[1;3;38;5;200mThought: I can answer without using any more tools. I'll use the user's language to answer.\n",
      "Answer: Uang pesangon adalah penghasilan yang diberikan oleh pemberi kerja kepada karyawan sebagai bentuk kompensasi atas berakhirnya masa kerja atau pemutusan hubungan kerja. Penghasilan ini mencakup uang penghargaan atas masa kerja dan uang ganti kerugian.\n",
      "\u001b[0m"
     ]
    }
   ],
   "source": [
    "response_openai = agent_openai.chat(query_str)\n",
    "response_react = agent_react.chat(query_str)"
   ]
  },
  {
   "cell_type": "code",
   "execution_count": 17,
   "metadata": {},
   "outputs": [],
   "source": [
    "from llama_index.core.response.notebook_utils import display_response"
   ]
  },
  {
   "cell_type": "code",
   "execution_count": 18,
   "metadata": {},
   "outputs": [
    {
     "data": {
      "text/markdown": [
       "**`Final Response:`** Uang pesangon adalah uang yang diberikan kepada pekerja atau karyawan yang dipecat atau mengundurkan diri secara sukarela setelah bekerja dalam suatu perusahaan atau organisasi untuk jangka waktu tertentu. Uang pesangon biasanya diberikan sebagai bentuk kompensasi atas masa kerja yang telah dilakukan oleh pekerja atau karyawan tersebut. Uang pesangon diatur dalam beberapa peraturan di Indonesia, seperti Undang-Undang Ketenagakerjaan dan Peraturan Pemerintah terkait. Apakah ada informasi spesifik yang Anda cari mengenai uang pesangon?"
      ],
      "text/plain": [
       "<IPython.core.display.Markdown object>"
      ]
     },
     "metadata": {},
     "output_type": "display_data"
    }
   ],
   "source": [
    "display_response(response_openai)\n"
   ]
  },
  {
   "cell_type": "code",
   "execution_count": 19,
   "metadata": {},
   "outputs": [
    {
     "data": {
      "text/markdown": [
       "**`Final Response:`** Uang pesangon adalah penghasilan yang diberikan oleh pemberi kerja kepada karyawan sebagai bentuk kompensasi atas berakhirnya masa kerja atau pemutusan hubungan kerja. Penghasilan ini mencakup uang penghargaan atas masa kerja dan uang ganti kerugian."
      ],
      "text/plain": [
       "<IPython.core.display.Markdown object>"
      ]
     },
     "metadata": {},
     "output_type": "display_data"
    }
   ],
   "source": [
    "display_response(response_react)\n"
   ]
  },
  {
   "cell_type": "code",
   "execution_count": 20,
   "metadata": {},
   "outputs": [],
   "source": [
    "for node in response_openai.source_nodes:\n",
    "    print(\"**********\")\n",
    "    print(\"id: \", node.id_)\n",
    "    print(\"content:\\n\", node.node.get_content())\n",
    "    if node.score:\n",
    "        print(\"reranking score: \", node.score)\n",
    "    else:\n",
    "        print(\"reranking score: \", \"None\")\n",
    "    if node.node.metadata.get(\"retrieval_score\"):\n",
    "        print(\"retrieval score: \", node.node.metadata[\"retrieval_score\"])\n",
    "    else:\n",
    "        print(\"retrieval score: \", \"None\")\n",
    "    print(\"**********\")\n",
    "    print(\"\\n\")"
   ]
  },
  {
   "cell_type": "code",
   "execution_count": 21,
   "metadata": {},
   "outputs": [],
   "source": [
    "chat_store_string = chat_store.json()\n",
    "loaded_chat_store = SimpleChatStore.parse_raw(chat_store_string)"
   ]
  }
 ],
 "metadata": {
  "kernelspec": {
   "display_name": "chatbot",
   "language": "python",
   "name": "python3"
  },
  "language_info": {
   "codemirror_mode": {
    "name": "ipython",
    "version": 3
   },
   "file_extension": ".py",
   "mimetype": "text/x-python",
   "name": "python",
   "nbconvert_exporter": "python",
   "pygments_lexer": "ipython3",
   "version": "3.9.19"
  }
 },
 "nbformat": 4,
 "nbformat_minor": 2
}
