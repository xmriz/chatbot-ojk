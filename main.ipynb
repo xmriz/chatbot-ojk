{
 "cells": [
  {
   "cell_type": "markdown",
   "metadata": {},
   "source": [
    "# **OJKGPT**\n",
    "\n",
    "This is the Jupyter Notebook for the development of the 1st version of OJKGPT for the showcase demo capabilites to wealth team program. <br>\n",
    "In this development, we use several data sources for enriching the RAG system of the chatbot. "
   ]
  },
  {
   "cell_type": "code",
   "execution_count": 371,
   "metadata": {},
   "outputs": [],
   "source": [
    "import nest_asyncio\n",
    "nest_asyncio.apply()"
   ]
  },
  {
   "cell_type": "code",
   "execution_count": 372,
   "metadata": {},
   "outputs": [
    {
     "data": {
      "text/plain": [
       "True"
      ]
     },
     "execution_count": 372,
     "metadata": {},
     "output_type": "execute_result"
    }
   ],
   "source": [
    "from dotenv import load_dotenv\n",
    "load_dotenv()"
   ]
  },
  {
   "cell_type": "code",
   "execution_count": 373,
   "metadata": {},
   "outputs": [],
   "source": [
    "import logging\n",
    "import sys\n",
    "\n",
    "logging.basicConfig(stream=sys.stdout, level=logging.INFO)\n",
    "logging.getLogger().addHandler(logging.StreamHandler(stream=sys.stdout))"
   ]
  },
  {
   "cell_type": "code",
   "execution_count": 374,
   "metadata": {},
   "outputs": [],
   "source": [
    "from utils.models_define import ModelName\n",
    "\n",
    "# storing or not\n",
    "STORE = False\n",
    "DELETE = False\n",
    "model_name = ModelName.AZURE_OPENAI"
   ]
  },
  {
   "cell_type": "markdown",
   "metadata": {},
   "source": [
    "## **LLM Models Define**"
   ]
  },
  {
   "cell_type": "code",
   "execution_count": 375,
   "metadata": {},
   "outputs": [],
   "source": [
    "from llama_index.core import Settings\n",
    "from utils.models_define import get_llm_and_embedding\n",
    "\n",
    "# ollama/openai/azure_openai\n",
    "llm, embedding_llm = get_llm_and_embedding(model_name=model_name)\n",
    "\n",
    "Settings.llm = llm\n",
    "Settings.embed_model = embedding_llm"
   ]
  },
  {
   "cell_type": "markdown",
   "metadata": {},
   "source": [
    "## **Loading Documents**"
   ]
  },
  {
   "cell_type": "markdown",
   "metadata": {},
   "source": [
    "### **Document Reader and Node Parser**"
   ]
  },
  {
   "cell_type": "code",
   "execution_count": 376,
   "metadata": {},
   "outputs": [],
   "source": [
    "from utils.documents_reader import read_documents\n",
    "from utils.node_parser import parse_nodes\n",
    "from utils.doc_store import store_docstore, load_docstore\n",
    "\n",
    "path = './data'\n",
    "\n",
    "if STORE:\n",
    "    docs_all = read_documents(path=path)\n",
    "    nodes_all = parse_nodes(documents=docs_all, llm=llm)\n",
    "    docstore = store_docstore(documents=docs_all, delete=DELETE)\n",
    "else:\n",
    "    docstore = load_docstore()"
   ]
  },
  {
   "cell_type": "markdown",
   "metadata": {},
   "source": [
    "## **Indexing & Storing**"
   ]
  },
  {
   "cell_type": "code",
   "execution_count": 377,
   "metadata": {},
   "outputs": [
    {
     "name": "stdout",
     "output_type": "stream",
     "text": [
      "Loading the index completed.\n"
     ]
    }
   ],
   "source": [
    "from utils.vector_store import (store_vector_index, load_vector_index)\n",
    "\n",
    "# store\n",
    "if STORE:\n",
    "    index_all = store_vector_index(nodes=nodes_all,embed_model=embedding_llm, delete=DELETE)\n",
    "\n",
    "# load\n",
    "else:\n",
    "    index_all = load_vector_index()"
   ]
  },
  {
   "cell_type": "markdown",
   "metadata": {},
   "source": [
    "## **Querying**"
   ]
  },
  {
   "cell_type": "markdown",
   "metadata": {},
   "source": [
    "### **Retriever**"
   ]
  },
  {
   "cell_type": "code",
   "execution_count": 378,
   "metadata": {},
   "outputs": [],
   "source": [
    "from llama_index.retrievers.bm25 import BM25Retriever\n",
    "from utils.fusion_retriever import FusionRetriever\n",
    "# from llama_index.core.retrievers import RecursiveRetriever\n",
    "\n",
    "vector_retriever_all = index_all.as_retriever(similarity_top_k=2)\n",
    "\n",
    "bm25_retriever = BM25Retriever.from_defaults(\n",
    "    docstore=docstore, similarity_top_k=2, verbose=True\n",
    ")\n",
    "\n",
    "fusion_retriever = FusionRetriever(\n",
    "    llm=llm,\n",
    "    retrievers=[vector_retriever_all, bm25_retriever],\n",
    "    similarity_top_k=2,\n",
    ")"
   ]
  },
  {
   "cell_type": "markdown",
   "metadata": {},
   "source": [
    "### **Query Engine**"
   ]
  },
  {
   "cell_type": "code",
   "execution_count": 379,
   "metadata": {},
   "outputs": [],
   "source": [
    "from llama_index.core.query_engine import RetrieverQueryEngine\n",
    "\n",
    "query_engine_all = RetrieverQueryEngine.from_args(retriever=fusion_retriever,llm=llm)"
   ]
  },
  {
   "cell_type": "code",
   "execution_count": 404,
   "metadata": {},
   "outputs": [],
   "source": [
    "a = \"Apa judul peraturan 7/33/PBI/2005?\" # Pencabutan atas Peraturan Bank Indonesia Nomor 5/17/PBI/2003 tentang Persyaratan dan Tata Cara Pelaksanaan Jaminan Pemerintah terhadap Kewajiban Pembayaran Bank Perkreditan Rakyat\n",
    "b = \"Kapan surat edaran No. 15/26/DPbS mulai berlaku?\" # 1 Agustus 2013.\n",
    "c = \"Siapa nama dan jabatannya yang menandatangani surat dengan nomor 1/SEOJK.04/2013?\" # NURHAIDA, kepala eksekutif pengawas pasar modal\n",
    "d = \"Saya ingin menyelenggarakan kegiatan pasar modal berikan saya nomor surat yang membahas mengenai hal ini!\" # 1/SEOJK.04/2013\n",
    "e = \"Berapa persen jaminan moneter pada tanggal 20 Agustus 1958?\" # 7,3%\n",
    "f = \"Surat edaran nomor berapa yang mengatur bank umum syariah dan unit usaha syariah?\" # 15/26/DPbS\n",
    "g = \"Apa kepanjangan dari PAPSI?\" # Pedoman Akuntansi Perbankan Syariah Indonesia\n",
    "h = \"apa judul peraturan nomor 112/KMK.03/2001?\" # Keputusan Menteri Keuangan tentang Pemotongan Pajak Penghasil Pasal 21 atas Penghasilan berupa Uang Pesangon, Uang Tebusan Pensiun, dan Tunjangan Hari Tua atau Jaminan Hari Tua\n",
    "i = \"Saya ingin membuat sistem informasi lembaga jasa keuangan, berikan nomor regulasi dari peraturan yang membahas tentang manejemen risiko nya!\" # 4/POJK.05/2021\n",
    "j = \"Apa kepanjangan dari SWDKLLJ?\" # Sumbangan Wajib Dana Kecelakaan Lalu Lintas Jalan\n",
    "k = \"Berapa nilai SWDKLLJ scooter?\" # Rp.140.000\n",
    "l = \"Apa latar belakang dari peraturan NOMOR 4/POJK.05/2021?\" # dalam bentuk list\n",
    "m = \"Apa itu LJKNB?\" # Lembaga Jasa Keuangan Non Bank\n",
    "n = \"Apakah KMK Nomor 462/KMK.04/1998 masih berlaku\" # tidak\n",
    "o = \"Apa itu Uang Pesangon?\" # penghasilan yang dibayarkan oleh pemberi kerja kepada karyawan dengan nama dan dalam bentuk apapun sehubungan dengan berakhirnya masa kerja atau terjadi pemutusan  hubungan kerja, termasuk uang penghargaan masa kerja dan uang  ganti kerugian\n",
    "p = \"Apa itu CKPN?\" # Cadangan Kerugian Penurunan Nilai.\n",
    "\n",
    "z = \"What is the limit of QRIS Transaction Nominal?\"\n",
    "\n",
    "query_str = n"
   ]
  },
  {
   "cell_type": "code",
   "execution_count": 405,
   "metadata": {},
   "outputs": [
    {
     "name": "stderr",
     "output_type": "stream",
     "text": [
      "100%|██████████| 6/6 [00:02<00:00,  2.70it/s]\n"
     ]
    }
   ],
   "source": [
    "response = query_engine_all.query(query_str)"
   ]
  },
  {
   "cell_type": "code",
   "execution_count": 406,
   "metadata": {},
   "outputs": [
    {
     "data": {
      "text/markdown": [
       "**`Final Response:`** Tidak ada informasi yang menyebutkan apakah KMK Nomor 462/KMK.04/1998 masih berlaku atau tidak dalam konteks ini."
      ],
      "text/plain": [
       "<IPython.core.display.Markdown object>"
      ]
     },
     "metadata": {},
     "output_type": "display_data"
    }
   ],
   "source": [
    "from llama_index.core.response.notebook_utils import display_response\n",
    "\n",
    "display_response(response)"
   ]
  },
  {
   "cell_type": "markdown",
   "metadata": {},
   "source": [
    "## **Build Agent**"
   ]
  },
  {
   "cell_type": "code",
   "execution_count": 407,
   "metadata": {},
   "outputs": [],
   "source": [
    "from llama_index.core.tools import QueryEngineTool, ToolMetadata\n",
    "\n",
    "query_tools = [\n",
    "    QueryEngineTool(\n",
    "        query_engine=query_engine_all,\n",
    "        metadata=ToolMetadata(\n",
    "            name=\"bi_ojk\",\n",
    "            description=\"Useful for retrieving answers from all documents.\",\n",
    "        )\n",
    "    ),\n",
    "]"
   ]
  },
  {
   "cell_type": "code",
   "execution_count": 408,
   "metadata": {},
   "outputs": [],
   "source": [
    "system_prompt = \"\"\"\n",
    "You are a compliance chatbot specializing in Indonesian regulations, including those from OJK, Bapepam, Bank Indonesia, and others.\n",
    "\n",
    "**Guidelines:**\n",
    "1. **Language:** Always respond in the user's language.\n",
    "2. **Source:** Use the vector search tool for every query to find relevant information.\n",
    "3. **Accuracy:** Do not generate information not present in your training data.\n",
    "4. **Scope:** Only provide answers based on the following documents:\n",
    "   - Peraturan OJK\n",
    "   - Surat Edaran OJK\n",
    "   - PPBI\n",
    "   - Klasifikasi Bapepam\n",
    "   - SEBI\n",
    "   - Peraturan Keputusan Menteri\n",
    "   - Peraturan Bapepam\n",
    "   - Undang-Undang\n",
    "   - Peraturan Pemerintah\n",
    "\n",
    "**Capabilities:**\n",
    "- Summarize content from the regulations.\n",
    "- Answer specific questions about articles or sections.\n",
    "- Utilize previous chat history and context for consistent and accurate interactions.\n",
    "\n",
    "**Interaction Format:**\n",
    "Query: {query_str}\n",
    "Vector Search Results: {query_results}\n",
    "Answer: {answer}\n",
    "\"\"\"\n",
    "# system_prompt = \"\"\"\n",
    "# You are a chatbot able to help answer questions about various types of regulations in Indonesia.\n",
    "\n",
    "# You MUST always answer WITH BAHASA INDONESIA.\n",
    "# You are NOT ALLOWED to hallucinate.\n",
    "# You MUST FOLLOW the answer from query engine.\n",
    "# You are ONLY ALLOWED to answer the question based on documents that you have been trained on.\n",
    "# You have access to a query tool to help you find relevant information in the regulations database.\n",
    "# Given the context information and not prior knowledge, answer the query using the query tool provided.\n",
    "# Use the previous chat history, or the context above, to interact and help the user.\n",
    "# ----------------------------------------------\n",
    "# Query: {query_str}\n",
    "# Answer:\n",
    "# \"\"\""
   ]
  },
  {
   "cell_type": "code",
   "execution_count": 409,
   "metadata": {},
   "outputs": [],
   "source": [
    "from llama_index.core.storage.chat_store import SimpleChatStore\n",
    "from llama_index.core.memory import ChatMemoryBuffer\n",
    "\n",
    "chat_store = SimpleChatStore()\n",
    "memory = ChatMemoryBuffer.from_defaults(\n",
    "    token_limit=10000,\n",
    "    chat_store=chat_store,\n",
    "    chat_store_key=\"user1\",\n",
    ")"
   ]
  },
  {
   "cell_type": "code",
   "execution_count": 410,
   "metadata": {},
   "outputs": [],
   "source": [
    "from llama_index.core.callbacks import CallbackManager, LlamaDebugHandler\n",
    "\n",
    "llama_debug = LlamaDebugHandler(print_trace_on_end=True)\n",
    "callback_manager = CallbackManager([llama_debug])"
   ]
  },
  {
   "cell_type": "code",
   "execution_count": 411,
   "metadata": {},
   "outputs": [],
   "source": [
    "from utils.custom_agent import YourOpenAIAgent, CustomAgent, agent_with_memory\n",
    "from llama_index.agent.openai import OpenAIAgent\n",
    "from llama_index.core.agent.legacy.react.base import ReActAgent\n",
    "\n",
    "# agent = custom_agent(\n",
    "#     llm=llm,\n",
    "#     query_engine_tools=query_tools,\n",
    "#     verbose=True,\n",
    "# )\n",
    "\n",
    "# agent = YourOpenAIAgent(\n",
    "#     llm=llm,\n",
    "#     tools=query_tools,\n",
    "# )\n",
    "\n",
    "# agent = agent_with_memory(\n",
    "#     llm=llm,\n",
    "#     tools=query_tools,\n",
    "#     memory=memory,\n",
    "#     system_prompt=system_prompt\n",
    "# )\n",
    "\n",
    "# agent = CustomAgent(\n",
    "#     llm=llm,\n",
    "#     query_engine_tools=query_tools,\n",
    "#     verbose=True,\n",
    "# )\n",
    "\n",
    "# agent = OpenAIAgent.from_tools(\n",
    "#     llm=llm,\n",
    "#     tools=query_tools,\n",
    "#     verbose=True,\n",
    "#     memory=memory,\n",
    "#     system_prompt=system_prompt,\n",
    "#     callback_manager=callback_manager,\n",
    "# )\n",
    "\n",
    "agent = ReActAgent.from_tools(\n",
    "    llm=llm,\n",
    "    memory=memory,\n",
    "    tools=query_tools,\n",
    "    verbose=True,\n",
    "    system_prompt=system_prompt,\n",
    "    callback_manager=callback_manager,\n",
    ")"
   ]
  },
  {
   "cell_type": "code",
   "execution_count": 412,
   "metadata": {},
   "outputs": [
    {
     "name": "stdout",
     "output_type": "stream",
     "text": [
      "\u001b[1;3;38;5;200mThought: The current language of the user is Indonesian. I need to use a tool to help me answer the question.\n",
      "Action: bi_ojk\n",
      "Action Input: {'input': 'Apakah KMK Nomor 462/KMK.04/1998 masih berlaku'}\n",
      "\u001b[0m"
     ]
    },
    {
     "name": "stderr",
     "output_type": "stream",
     "text": [
      "100%|██████████| 6/6 [00:01<00:00,  3.54it/s]\n"
     ]
    },
    {
     "name": "stdout",
     "output_type": "stream",
     "text": [
      "\u001b[1;3;34mObservation: Tidak ada informasi yang menyebutkan apakah KMK Nomor 462/KMK.04/1998 masih berlaku atau tidak dalam konteks ini.\n",
      "\u001b[0m\u001b[1;3;38;5;200mThought: I cannot answer the question with the provided tools.\n",
      "Answer: Tidak ada informasi yang menyebutkan apakah KMK Nomor 462/KMK.04/1998 masih berlaku atau tidak dalam konteks ini.\n",
      "\u001b[0m**********\n",
      "Trace: chat\n",
      "    |_llm -> 1.877204 seconds\n",
      "    |_function_call -> 4.593356 seconds\n",
      "    |_llm -> 1.379535 seconds\n",
      "**********\n"
     ]
    }
   ],
   "source": [
    "# response_openai = agent_openai.chat(query_str)\n",
    "# response_react = agent_react.chat(query_str)\n",
    "response = agent.chat(message=query_str)"
   ]
  },
  {
   "cell_type": "code",
   "execution_count": 413,
   "metadata": {},
   "outputs": [
    {
     "data": {
      "text/markdown": [
       "**`Final Response:`** Tidak ada informasi yang menyebutkan apakah KMK Nomor 462/KMK.04/1998 masih berlaku atau tidak dalam konteks ini."
      ],
      "text/plain": [
       "<IPython.core.display.Markdown object>"
      ]
     },
     "metadata": {},
     "output_type": "display_data"
    }
   ],
   "source": [
    "from llama_index.core.response.notebook_utils import display_response\n",
    "\n",
    "display_response(response=response)"
   ]
  },
  {
   "cell_type": "code",
   "execution_count": 414,
   "metadata": {},
   "outputs": [
    {
     "name": "stdout",
     "output_type": "stream",
     "text": [
      "**********\n",
      "id:  0615b9f7-6375-4a61-9360-a9639ec03269\n",
      "content:\n",
      " Peraturan Pemerintah Nomor 45 Tahun 1995 tentangPenyelenggaraan Kegiatan di Bidang Pasar Modal (Lembaran Negara Republik Indonesia Tahun 1995 Nomor 86, Tambahan Lembaran Negara Nomor 3617); MEMUTUSKAN : Menetapkan : P E R AT U R A N  P E M E R I N TA H  T E N TA N G  P E R U B A H A N  ATA S         PERATURAN PEMERINTAH NOMOR 45 TAHUN 1995 TENTANG       PENYELENGGARAAN KEGIATAN DI BIDANG PASAR MODAL. II- 2 PP. No. : 12 Tahun 2004 Pasal I Mengubah ketentuan Pasal 8 dalam Peraturan Pemerintah Nomor 45 Tahun 1995 tentang Penyelenggaraan Kegiatan Di Bidang Pasar Modal, sehingga keseluruhan Pasal 8 berbunyi sebagai berikut : Pasal 8  (1)  Perusahaan Efek yang telah menjadi pemegang saham Bursa Efek tetapi kemudian tidak lagi memenuhi syarat untuk menjadi Anggota Bursa Efek atau tidak lagi menjadi Anggota Bursa Efek, wajib mengalihkan saham Bursa Efek yang dimilikinya kepada Perusahaan Efek lain yang memenuhi persyaratan sebagai Anggota Bursa Efek atau mengajukan permintaan penjualan saham dimaksud kepada Bursa Efek, dalam jangka waktu selambat- lambatnya 12 (dua belas) bulan sejak saat Perusahaan Efek tidak lagi memenuhi syarat sebagai Anggota Bursa Efek atau tidak lagi menjadi Anggota Bursa Efek. (2) Dalam hal kepemilikan saham belum beralih dalam jangka waktu sebagaimana dimaksud dalam ayat (1) atau Perusahaan Efek mengajukan permintaan penjualan saham kepada Bursa Efek, Bursa Efek melelang saham dimaksud pada tingkat harga terbaik atau membeli kembali saham tersebut pada harga nominal. (3) Pelelangan atau pembelian kembali saham sebagaimana dimaksud dalam ayat (2), dilakukan dalam jangka waktu selambat-lambatnya 6 (enam) bulan terhitung sejak lewatnya jangka waktu sebagaimana dimaksud dalam ayat (1) atau sejak Bursa Efek menerima pengajuan permintaan penjualan. (4) Dalam hal Bursa Efek memutuskan untuk melelang saham sebagaimana dimaksud dalam ayat (2), namun dalam jangka waktu 6 (enam) bulan sebagaimana dimaksud dalam ayat (3) saham dimaksud tidak terjual, maka Bursa Efek membeli saham tersebut pada harga nominal.” Pasal II Peraturan Pemerintah ini mulai berlaku pada tanggal diundangkan. Agar setiap orang mengetahuinya, memerintahkan pengundangan Peraturan Pemerintah ini dengan penempatannya dalam Lembaran Negara Republik Indonesia. II- 3 PP. No.\n",
      "reranking score:  0.016666666666666666\n",
      "**********\n",
      "\n",
      "\n",
      "**********\n",
      "id:  f9d2041d-2505-48b3-b076-501a9831d91c\n",
      "content:\n",
      " KEPUTUSAN MENTERI KEUANGAN REPUBLIK INDONESIA  NOMOR  112/KMK.03/2001  TENTANG  PEMOTONGAN PAJAK PENGHASILAN PASAL 21 ATAS PENGHASILAN  BERUPA UANG PESANGON, UANG TEBUSAN PENSIUN, DAN TUNJANGAN  HARI TUA ATAU JAMINAN HARI TUA  MENTERI KEUANGAN REPUBLIK INDONESIA,  Menimbang : bahwa sebagai pelaksanaan Peraturan Pemerintah Nomor 149 Tahun  2000 tentang Pemotongan Pajak Penghasilan Pasal 21 Atas Penghasilan  Berupa Uang Pasangon, Uang Tebusan Pensiun, Dan Tunjangan hari  Tua atau Jaminan Hari tua, perlu menetapkan Keputusan Menteri  Keuangan tentang Pemotongan Pajak Penghasilan Pasal 21 atas  Penghasilan Berupa Uang Pesangon, Uang Tebusan Pensiun, dan  Tunjangan Hari Tua atau Jaminan Hari Tua;  Mengingat  : 1.  Undang-undang Republik Indonesia Nonor 7 Tahun 1983 tentang  Pajak Penghasilan (Lembaran Negara Republik Indonesia Tahun  1983 Nomor 50, Tambahan Lembaran Negara Republik Indonesia  Nomor 3263) sebagaimana telah beberapa kali diubah terakhir  dengan Undang-undang Nomor 10 Tahun 1994 (Lembaran Negara  Republik Indonesia Tahun 1994 Nomor 60, Tambahan Lembaran  Negara Republik Indonesia Nomor 3567);      2.  Undang-undang Republik Indonesia Nomor 11 Tahun 1992 tentang  Dana Pensiun (Lembaran Negara Republik Indonesia Tahun 1992  Nomor 37, Tambahan Lembaran Negara Republik Indonesia  Nomor 3477);      3.  Peraturan Pemerintah Republik Indonesia Nomor 14 Tahun 1993  tentang Penyelenggaraan Program Jaminan Sosial Tenaga Kerja  (Lembaran Negara Republik Indonesia Tahun 1993 Nomor 20,  Tambahan Lembaran Negara Republik Indonesia Nomor 3520);      4.  Peraturan Pemerintah Republik Indonesia Nomor 149 Tahun 2000  tentang Pemotongan Pajak Penghasilan Pasal 21 Atas Penghasilan  Berupa Uang Pesangon, Uang Tebusan Pensiun, Dan Tunjangan  Hari Tua atau Jaminan Hari Tua (Lembaran Negara Republik  Indonesia Tahun 2000 Nomor 266, Tambahan Lembaran Negara  Republik Indonesia Nomor 4067);      5.  Keputusan Menteri Tenaga Kerja Republik Indonesia Nomor KEP- 150/Men/2000 tentang Penyelesaian Pemutusan Hubungan Kerja  dan Penetapan Uang Pesangon, Uang Penghargaan Masa Kerja dan  Ganti Kerugian di Perusahaan;          MEMUTUSKAN :    Menetapkan : KEPUTUSAN  MENTERI  KEUANGAN  TENTANG  PEMOTONG- AN PAJAK PENGHASILAN PASAL 21 ATAS  PENGHASILAN  BERUPA  UANG  PESANGON,  UANG  TEBUSAN PENSIUN, DAN TUNJANGAN HARI TUA ATAU  JAMINAN HARI TUA.   Pasal  1  Dalam Keputusan Menteri Keuangan ini yang dimaksud dengan :     a.  Uang Pesangon adalah penghasilan yang dibayarkan oleh pemberi  kerja kepada karyawan dengan nama dan dalam bentuk apapun  sehubungan dengan berakhirnya masa kerja atau terjadi pemutusan  hubungan kerja, termasuk uang penghargaan masa kerja dan uang  ganti kerugian;      b.  Uang Tebusan Pensiun adalah penghasilan yang dibayarkan oleh  dana pensiun yang telah disahkan oleh Menteri Keuangan baik  Dana Pensiun Pemberi Kerja maupun Dana Pemsiun Lembaga  Keuangan, kepada orang pribadi yang berhak menerimanya secara  sekaligus;      c.  Tunjang Hari Tua adalah penghasilan yang dibayarkan oleh badan  penyelenggara Tunjangan Hari Tua kepada orang pribadi yang  berhak menerimanya secara sekaligus dalam jangka waktu yang  telah ditentuan;      d.  Jaminan Hari Tua adalah pengahasilan yang dibayarkan oleh badan  penyelenggara jaminan Sosial Tenaga Kerja kepada orang pribadi  yang berhak menerimanya secara sekaligus dalam jangka waktu  yang telah ditentukan atau keadaan lain yang ditentukan.        Pasal  2       (1)  Atas penghasilan berupa Uang Pesangon, Uang Tebusan Pensiun,  dan Tujuangan Hari Tua atau Jaminan Hari Tua yang dibayarkan  secara sekaligus dipotong Pajak Penghasilan yang bersifat final  oleh pihak-pihak yang membarkan.      (2)  Tarif pemotongan pajak atas penghasilan sebagaimana dimaksud  dalam ayat (1) adalah sebagai berikut :       a.  penghasilan bruto sampai dengan Rp 25.000.000,00 (dua  puluh lima juta rupiah) dikecualikan dari pemotongan pajak;        b.  penghasilan bruto di atas Rp 25.000.000,00 (dua puluh lima juta  rupiah) sampai dengan Rp 50.000.000,00 (lima puluh lima juta  rupiah) sebesar 5% (lima persen);        c.  penghasilan bruto di atas Rp 50.000.000,00 (lima puluh lima  juta rupiah) sampai dengan Rp 100.000.000,00 (seratus juta  rupiah) sebesar 10% (sepuluh persen);        d.  penghasilan bruto di atas Rp 100.000.000,00 (seratus juta  rupiah) sampai dengan Rp 200.000.000,00 (dua ratus juta  rupiah) sebesar 15% (lima belas persen);        e.  penghasilan bruto di atas Rp 200.000.000,00 (dua ratus juta  rupiah) sebesar 25% (dua puliuh lima belas persen);        Pasal  3  Pada saat Keputusan Menteri Keuangan ini mulai berlaku, Keputusan  Menteri Keuangan Nomor 462/KMK.04/1998 dinyatakan tidak berlaku. Pasal  4  Keputusan ini mulai berlaku tanggal 1 Januari 2001.  Agar setiap orang mengetahuinya, memerintahkan pengumuman  Keputusan Menteri Keuangan ini dengan penempatannya dalam Berita  Negara Republik Indonesia.      Ditetapkan di Jakarta   pada tanggal 6 Maret 2001   MENTERI  KEUANGAN  REPUBLIK  INDONESIA    PRIJADI PRAPTOSUHARDJO    \n",
      "reranking score:  0.016666666666666666\n",
      "**********\n",
      "\n",
      "\n"
     ]
    }
   ],
   "source": [
    "for node in response.source_nodes:\n",
    "    print(\"**********\")\n",
    "    print(\"id: \", node.id_)\n",
    "    print(\"content:\\n\", node.node.get_content())\n",
    "    if node.score:\n",
    "        print(\"reranking score: \", node.score)\n",
    "    if node.node.metadata.get(\"retrieval_score\"):\n",
    "        print(\"retrieval score: \", node.node.metadata[\"retrieval_score\"])\n",
    "    print(\"**********\")\n",
    "    print(\"\\n\")"
   ]
  },
  {
   "cell_type": "code",
   "execution_count": 415,
   "metadata": {},
   "outputs": [],
   "source": [
    "chat_store_string = chat_store.json()\n",
    "loaded_chat_store = SimpleChatStore.parse_raw(chat_store_string)"
   ]
  }
 ],
 "metadata": {
  "kernelspec": {
   "display_name": "chatbot",
   "language": "python",
   "name": "python3"
  },
  "language_info": {
   "codemirror_mode": {
    "name": "ipython",
    "version": 3
   },
   "file_extension": ".py",
   "mimetype": "text/x-python",
   "name": "python",
   "nbconvert_exporter": "python",
   "pygments_lexer": "ipython3",
   "version": "3.9.19"
  }
 },
 "nbformat": 4,
 "nbformat_minor": 2
}
