{
 "cells": [
  {
   "cell_type": "markdown",
   "metadata": {},
   "source": [
    "# **OJKGPT**\n",
    "\n",
    "This is the Jupyter Notebook for the development of the 1st version of OJKGPT for the showcase demo capabilites to wealth team program. <br>\n",
    "In this development, we use several data sources for enriching the RAG system of the chatbot. "
   ]
  },
  {
   "cell_type": "code",
   "execution_count": 1,
   "metadata": {},
   "outputs": [],
   "source": [
    "import nest_asyncio\n",
    "nest_asyncio.apply()"
   ]
  },
  {
   "cell_type": "code",
   "execution_count": 2,
   "metadata": {},
   "outputs": [
    {
     "data": {
      "text/plain": [
       "True"
      ]
     },
     "execution_count": 2,
     "metadata": {},
     "output_type": "execute_result"
    }
   ],
   "source": [
    "from dotenv import load_dotenv\n",
    "load_dotenv()"
   ]
  },
  {
   "cell_type": "code",
   "execution_count": 3,
   "metadata": {},
   "outputs": [],
   "source": [
    "import logging\n",
    "import sys\n",
    "\n",
    "logging.basicConfig(stream=sys.stdout, level=logging.INFO)\n",
    "logging.getLogger().addHandler(logging.StreamHandler(stream=sys.stdout))"
   ]
  },
  {
   "cell_type": "code",
   "execution_count": 4,
   "metadata": {},
   "outputs": [],
   "source": [
    "from utils.models_definer import ModelName\n",
    "\n",
    "# storing or not\n",
    "OCR_TRESHOLD = 0.98\n",
    "TOP_K = 3\n",
    "NUM_BATCH_EVAL = 10\n",
    "STORE = False\n",
    "DELETE = False\n",
    "EVAL = False\n",
    "model_name = ModelName.AZURE_OPENAI\n",
    "model_name_eval = ModelName.OPENAI"
   ]
  },
  {
   "cell_type": "markdown",
   "metadata": {},
   "source": [
    "## **LLM Models Define**"
   ]
  },
  {
   "cell_type": "code",
   "execution_count": 5,
   "metadata": {},
   "outputs": [],
   "source": [
    "from llama_index.core import Settings\n",
    "from utils.models_definer import get_llm_and_embedding\n",
    "\n",
    "# ollama/openai/azure_openai\n",
    "llm,embedding_llm = get_llm_and_embedding(model_name=model_name)\n",
    "\n",
    "llm_eval = get_llm_and_embedding(model_name=model_name_eval)[0]\n",
    "\n",
    "\n",
    "Settings.llm = llm\n",
    "Settings.embed_model = embedding_llm"
   ]
  },
  {
   "cell_type": "markdown",
   "metadata": {},
   "source": [
    "## **Loading Documents**"
   ]
  },
  {
   "cell_type": "markdown",
   "metadata": {},
   "source": [
    "### **Document Reader and Node Parser**"
   ]
  },
  {
   "cell_type": "code",
   "execution_count": 6,
   "metadata": {},
   "outputs": [],
   "source": [
    "from utils.documents_reader import read_documents\n",
    "from utils.node_parser import parse_nodes\n",
    "\n",
    "path = './data'\n",
    "\n",
    "if STORE:\n",
    "    docs = read_documents(path=path, ocr_treshold=OCR_TRESHOLD)\n",
    "    nodes = parse_nodes(documents=docs, llm=llm)"
   ]
  },
  {
   "cell_type": "markdown",
   "metadata": {},
   "source": [
    "## **Indexing & Storing**"
   ]
  },
  {
   "cell_type": "code",
   "execution_count": 7,
   "metadata": {},
   "outputs": [
    {
     "name": "stdout",
     "output_type": "stream",
     "text": [
      "Loading the vector index completed.\n"
     ]
    }
   ],
   "source": [
    "from utils.index_store import (store_vector_index, load_vector_index)\n",
    "\n",
    "# store\n",
    "if STORE:\n",
    "    vector_index = store_vector_index(nodes=nodes,embed_model=embedding_llm, delete=DELETE)\n",
    "# load\n",
    "else:\n",
    "    vector_index = load_vector_index()"
   ]
  },
  {
   "cell_type": "markdown",
   "metadata": {},
   "source": [
    "## **Querying**"
   ]
  },
  {
   "cell_type": "markdown",
   "metadata": {},
   "source": [
    "### **Retriever**"
   ]
  },
  {
   "cell_type": "code",
   "execution_count": 8,
   "metadata": {},
   "outputs": [],
   "source": [
    "vector_retriever = vector_index.as_retriever(similarity_top_k=TOP_K)"
   ]
  },
  {
   "cell_type": "markdown",
   "metadata": {},
   "source": [
    "### **Query Engine**"
   ]
  },
  {
   "cell_type": "code",
   "execution_count": 9,
   "metadata": {},
   "outputs": [],
   "source": [
    "from llama_index.postprocessor.colbert_rerank import ColbertRerank\n",
    "\n",
    "colbert_reranker = ColbertRerank(\n",
    "    top_n=5,\n",
    "    model=\"colbert-ir/colbertv2.0\",\n",
    "    tokenizer=\"colbert-ir/colbertv2.0\",\n",
    "    keep_retrieval_score=True,\n",
    ")"
   ]
  },
  {
   "cell_type": "code",
   "execution_count": 10,
   "metadata": {},
   "outputs": [],
   "source": [
    "from llama_index.core.query_engine import RetrieverQueryEngine\n",
    "import time\n",
    "\n",
    "vector_query_engine = RetrieverQueryEngine.from_args(retriever=vector_retriever,llm=llm, node_postprocessors=[colbert_reranker])\n",
    "time.sleep(2)"
   ]
  },
  {
   "cell_type": "code",
   "execution_count": 30,
   "metadata": {},
   "outputs": [],
   "source": [
    "a = \"Apa judul peraturan 7/33/PBI/2005?\" # Pencabutan atas Peraturan Bank Indonesia Nomor 5/17/PBI/2003 tentang Persyaratan dan Tata Cara Pelaksanaan Jaminan Pemerintah terhadap Kewajiban Pembayaran Bank Perkreditan Rakyat\n",
    "b = \"Kapan surat edaran No. 15/26/DPbS mulai berlaku?\" # 1 Agustus 2013.\n",
    "c = \"Siapa nama dan jabatannya yang menandatangani surat dengan nomor 1/SEOJK.04/2013?\" # NURHAIDA, kepala eksekutif pengawas pasar modal\n",
    "d = \"Saya ingin menyelenggarakan kegiatan pasar modal berikan saya nomor surat yang membahas mengenai hal ini!\" # Peraturan Pemerintah Nomor 12 Tahun 2004\n",
    "e = \"Berapa persen jaminan moneter pada tanggal 20 Agustus 1958?\" # 7,3%\n",
    "f = \"Surat edaran nomor berapa yang mengatur bank umum syariah dan unit usaha syariah?\" # 15/26/DPbS\n",
    "g = \"Apa kepanjangan dari PAPSI?\" # Pedoman Akuntansi Perbankan Syariah Indonesia\n",
    "h = \"apa judul peraturan nomor 112/KMK.03/2001?\" # Keputusan Menteri Keuangan tentang Pemotongan Pajak Penghasil Pasal 21 atas Penghasilan berupa Uang Pesangon, Uang Tebusan Pensiun, dan Tunjangan Hari Tua atau Jaminan Hari Tua\n",
    "i = \"Saya ingin membuat sistem informasi lembaga jasa keuangan, berikan nomor regulasi dari peraturan yang membahas tentang manejemen risiko nya!\" # 4/POJK.05/2021\n",
    "j = \"Apa kepanjangan dari SWDKLLJ?\" # Sumbangan Wajib Dana Kecelakaan Lalu Lintas Jalan\n",
    "k = \"Berapa nilai SWDKLLJ mobil sedan?\" # Rp. 140.000\n",
    "l = \"Apa latar belakang dari peraturan NOMOR 4/POJK.05/2021?\" # dalam bentuk list\n",
    "m = \"Apa itu LJKNB?\" # Lembaga Jasa Keuangan Non Bank\n",
    "n = \"Apakah KMK Nomor 462/KMK.04/1998 masih berlaku\" # tidak\n",
    "o = \"Apa itu Uang Pesangon?\" # penghasilan yang dibayarkan oleh pemberi kerja kepada karyawan dengan nama dan dalam bentuk apapun sehubungan dengan berakhirnya masa kerja atau terjadi pemutusan  hubungan kerja, termasuk uang penghargaan masa kerja dan uang  ganti kerugian\n",
    "p = \"Apa itu CKPN?\" # Cadangan Kerugian Penurunan Nilai.\n",
    "q = \"Kapan, dimana, dan oleh siapa surat nomor PER- 06/BL/2012 ditetapkan?\" # Surat nomor PER-06/BL/2012 ditetapkan pada tanggal 22 November 2012 di Jakarta oleh Ketua Badan Pengawas Pasar Modal dan Lembaga Keuangan.\n",
    "r = \"Apa kepanjangan PSAK?\" # Pernyataan Standar Akuntansi Keuangan\n",
    "s = \"Apa itu 'shahibul maal'?\" # Pemilik dana pihak ketiga\n",
    "\n",
    "query_str = a"
   ]
  },
  {
   "cell_type": "code",
   "execution_count": 31,
   "metadata": {},
   "outputs": [
    {
     "data": {
      "text/markdown": [
       "**`Final Response:`** Peraturan Bank Indonesia tentang Pencabutan atas Peraturan Bank Indonesia Nomor 5/17/PBI/2003 tentang Persyaratan dan Tata Cara Pelaksanaan Jaminan Pemerintah terhadap Kewajiban Pembayaran Bank Perkreditan Rakyat."
      ],
      "text/plain": [
       "<IPython.core.display.Markdown object>"
      ]
     },
     "metadata": {},
     "output_type": "display_data"
    }
   ],
   "source": [
    "from llama_index.core.response.notebook_utils import display_response\n",
    "\n",
    "response_vector = vector_query_engine.query(query_str)\n",
    "display_response(response_vector)"
   ]
  },
  {
   "cell_type": "markdown",
   "metadata": {},
   "source": [
    "## **Evaluation**"
   ]
  },
  {
   "cell_type": "code",
   "execution_count": 32,
   "metadata": {},
   "outputs": [],
   "source": [
    "import os\n",
    "\n",
    "# check directory exist\n",
    "if not os.path.exists(\"./json_data\"):\n",
    "    os.makedirs(\"./json_data\")"
   ]
  },
  {
   "cell_type": "code",
   "execution_count": 33,
   "metadata": {},
   "outputs": [],
   "source": [
    "from llama_index.core.evaluation import (\n",
    "    generate_question_context_pairs,\n",
    "    EmbeddingQAFinetuneDataset,\n",
    ")\n",
    "if EVAL:\n",
    "    if STORE:\n",
    "        qa_dataset = generate_question_context_pairs(\n",
    "            nodes=nodes,\n",
    "            llm=llm_eval,\n",
    "            num_questions_per_chunk=2,\n",
    "        )\n",
    "        qa_dataset.save_json(\"./json_data/pg_eval_dataset.json\")\n",
    "    else:\n",
    "        qa_dataset = EmbeddingQAFinetuneDataset.from_json(\"./json_data/pg_eval_dataset.json\")"
   ]
  },
  {
   "cell_type": "markdown",
   "metadata": {},
   "source": [
    "### **Retrieval Evaluation**"
   ]
  },
  {
   "cell_type": "code",
   "execution_count": 34,
   "metadata": {},
   "outputs": [],
   "source": [
    "metrics = [\"hit_rate\", \"mrr\", \"precision\", \"recall\", \"ap\", \"ndcg\"]"
   ]
  },
  {
   "cell_type": "code",
   "execution_count": 35,
   "metadata": {},
   "outputs": [],
   "source": [
    "from utils.evaluator import get_retrieval_eval_df\n",
    "\n",
    "if EVAL:\n",
    "    vector_retrieval_eval_results = await get_retrieval_eval_df(name=f\"Top-{TOP_K} Eval\", metrics=metrics, retriever=vector_retriever, qa_dataset=qa_dataset)\n",
    "    display(vector_retrieval_eval_results)"
   ]
  },
  {
   "cell_type": "markdown",
   "metadata": {},
   "source": [
    "### **Response Evaluation**"
   ]
  },
  {
   "cell_type": "code",
   "execution_count": 36,
   "metadata": {},
   "outputs": [],
   "source": [
    "from llama_index.core.evaluation import (\n",
    "    FaithfulnessEvaluator,\n",
    "    RelevancyEvaluator,\n",
    ")\n",
    "\n",
    "if EVAL:\n",
    "    # model for evaluation\n",
    "    relevancy_evaluator = RelevancyEvaluator(llm=llm_eval)\n",
    "    faithfullness_evaluator = FaithfulnessEvaluator(llm=llm_eval)"
   ]
  },
  {
   "cell_type": "markdown",
   "metadata": {},
   "source": [
    "#### **Faithfulness Evaluator**"
   ]
  },
  {
   "cell_type": "markdown",
   "metadata": {},
   "source": [
    "Evaluate Response"
   ]
  },
  {
   "cell_type": "code",
   "execution_count": 37,
   "metadata": {},
   "outputs": [],
   "source": [
    "from utils.evaluator import get_response_eval_df\n",
    "\n",
    "if EVAL:\n",
    "    vector_faithfullness_eval_result = faithfullness_evaluator.evaluate_response(response=response_vector, query=query_str)\n",
    "    display(get_response_eval_df(query=query_str, response=response_vector, eval_result=vector_faithfullness_eval_result))"
   ]
  },
  {
   "cell_type": "markdown",
   "metadata": {},
   "source": [
    "Evaluate Source Nodes"
   ]
  },
  {
   "cell_type": "code",
   "execution_count": 38,
   "metadata": {},
   "outputs": [],
   "source": [
    "from utils.evaluator import get_response_eval_sources_df\n",
    "\n",
    "if EVAL:\n",
    "    relevancy_eval_sources = get_response_eval_sources_df(query=query_str, response=response_vector, evaluator=faithfullness_evaluator)\n",
    "    display(relevancy_eval_sources)"
   ]
  },
  {
   "cell_type": "markdown",
   "metadata": {},
   "source": [
    "#### **Relevancy Evaluator**"
   ]
  },
  {
   "cell_type": "markdown",
   "metadata": {},
   "source": [
    "Evaluate Response"
   ]
  },
  {
   "cell_type": "code",
   "execution_count": 39,
   "metadata": {},
   "outputs": [],
   "source": [
    "if EVAL:\n",
    "    relevancy_eval_result = relevancy_evaluator.evaluate_response(\n",
    "        query=query_str, response=response_vector\n",
    "    )\n",
    "\n",
    "    display(get_response_eval_df(query=query_str, response=response_vector, eval_result=relevancy_eval_result))"
   ]
  },
  {
   "cell_type": "markdown",
   "metadata": {},
   "source": [
    "Evaluate Source Nodes"
   ]
  },
  {
   "cell_type": "code",
   "execution_count": 40,
   "metadata": {},
   "outputs": [],
   "source": [
    "from utils.evaluator import get_response_eval_sources_df\n",
    "\n",
    "if EVAL:\n",
    "    relevancy_eval_sources = get_response_eval_sources_df(query=query_str, response=response_vector, evaluator=relevancy_evaluator)\n",
    "    display(relevancy_eval_sources)"
   ]
  },
  {
   "cell_type": "markdown",
   "metadata": {},
   "source": [
    "#### **Batch Evaluator (Faithfulness, Relevancy, Correctness)**"
   ]
  },
  {
   "cell_type": "code",
   "execution_count": 41,
   "metadata": {},
   "outputs": [],
   "source": [
    "from llama_index.core.evaluation import BatchEvalRunner\n",
    "from utils.evaluator import get_batch_eval_results\n",
    "from utils.evaluator import get_batch_eval_df\n",
    "\n",
    "if EVAL:\n",
    "    runner = BatchEvalRunner(\n",
    "        {\n",
    "            \"faithfulness\": faithfullness_evaluator, \n",
    "            \"relevancy\": relevancy_evaluator,\n",
    "        },\n",
    "        workers=8,\n",
    "    )\n",
    "\n",
    "    vector_eval_results = await get_batch_eval_results(runner=runner, qa_dataset=qa_dataset, query_engine=vector_query_engine, num_queries=NUM_BATCH_EVAL)\n",
    "    display(get_batch_eval_df(vector_eval_results))"
   ]
  },
  {
   "cell_type": "markdown",
   "metadata": {},
   "source": [
    "## **Build Agent**"
   ]
  },
  {
   "cell_type": "code",
   "execution_count": 42,
   "metadata": {},
   "outputs": [],
   "source": [
    "# system_prompt = \"\"\"Anda adalah chatbot yang dapat membantu menjawab pertanyaan tentang berbagai jenis regulasi di Indonesia.\n",
    "\n",
    "# Anda HARUS selalu menjawab dengan BAHASA QUERY.\n",
    "# Anda TIDAK DIBENARKAN berimajinasi.\n",
    "# Anda HANYA DIBENARKAN menjawab pertanyaan berdasarkan dokumen yang telah Anda pelajari.\n",
    "# JANGAN MENGGUNAKAN informasi dari luar dokumen yang telah Anda pelajari.\n",
    "# Anda memiliki akses ke query tools untuk membantu Anda menemukan informasi yang relevan di basis data regulasi.\n",
    "# Berdasarkan informasi konteks dan bukan pengetahuan sebelumnya, jawablah pertanyaan HARUS menggunakan query tools yang tersedia.\n",
    "# Gunakan riwayat percakapan sebelumnya atau konteks di atas untuk berinteraksi dan membantu pengguna.\n",
    "\n",
    "# Anda memiliki akses ke query tools berikut: \n",
    "# - **vector_tool**: Untuk menemukan konteks spesifik dari dokumen\n",
    "# - **summary_tool**: Untuk menemukan ringkasan dokumen\n",
    "\n",
    "# **Penjelasan Metadata:**\n",
    "# Metadata dokumen mencakup informasi berikut:\n",
    "# - **file_name**: Nama file dokumen\n",
    "# - **title**: Judul dokumen\n",
    "# - **sector**: Sektor yang dicakup oleh regulasi\n",
    "# - **subsector**: Subsektor yang dicakup oleh regulasi\n",
    "# - **regulation_type**: Jenis regulasi (misalnya, Surat Edaran OJK, Peraturan OJK)\n",
    "# - **regulation_number**: Nomor regulasi\n",
    "# - **effective_date**: Tanggal berlakunya regulasi\n",
    "\n",
    "# ----------------------------------------------\n",
    "# Query: {query_str}\n",
    "# Jawaban:\n",
    "# \"\"\""
   ]
  },
  {
   "cell_type": "code",
   "execution_count": 43,
   "metadata": {},
   "outputs": [],
   "source": [
    "from llama_index.core.storage.chat_store import SimpleChatStore\n",
    "from llama_index.core.memory import ChatMemoryBuffer\n",
    "\n",
    "chat_store = SimpleChatStore()\n",
    "memory = ChatMemoryBuffer.from_defaults(\n",
    "    token_limit=10000,\n",
    "    chat_store=chat_store,\n",
    "    chat_store_key=\"user1\",\n",
    ")"
   ]
  },
  {
   "cell_type": "code",
   "execution_count": 44,
   "metadata": {},
   "outputs": [],
   "source": [
    "from llama_index.agent.openai import OpenAIAgent\n",
    "from llama_index.core.agent.legacy.react.base import ReActAgent\n",
    "from llama_index.core.chat_engine import CondenseQuestionChatEngine\n",
    "\n",
    "agent = CondenseQuestionChatEngine.from_defaults(\n",
    "    llm=llm,\n",
    "    memory=memory,\n",
    "    query_engine=vector_query_engine,\n",
    "    verbose=True,\n",
    ")"
   ]
  },
  {
   "cell_type": "code",
   "execution_count": 45,
   "metadata": {},
   "outputs": [
    {
     "name": "stdout",
     "output_type": "stream",
     "text": [
      "Querying with: Apa judul peraturan 7/33/PBI/2005?\n"
     ]
    }
   ],
   "source": [
    "response_agent = agent.chat(message=query_str)"
   ]
  },
  {
   "cell_type": "code",
   "execution_count": 46,
   "metadata": {},
   "outputs": [
    {
     "data": {
      "text/markdown": [
       "**`Final Response:`** Peraturan Bank Indonesia tentang Pencabutan atas Peraturan Bank Indonesia Nomor 5/17/PBI/2003 tentang Persyaratan dan Tata Cara Pelaksanaan Jaminan Pemerintah terhadap Kewajiban Pembayaran Bank Perkreditan Rakyat."
      ],
      "text/plain": [
       "<IPython.core.display.Markdown object>"
      ]
     },
     "metadata": {},
     "output_type": "display_data"
    }
   ],
   "source": [
    "from llama_index.core.response.notebook_utils import display_response\n",
    "\n",
    "display_response(response=response_agent)"
   ]
  },
  {
   "cell_type": "code",
   "execution_count": 47,
   "metadata": {},
   "outputs": [
    {
     "data": {
      "text/markdown": [
       "**Node ID:** 7785fd99-3d59-49ce-94ca-c7bd89fa14e4<br>**Similarity:** 0.7417713403701782<br>**Text:** PERATURAN BANK INDONESIA \n",
       "NOMOR : 7/33/PBI/2005 \n",
       "TENTANG \n",
       "PENCABUTAN ATAS PERATURAN BANK INDONESI...<br>**Metadata:** {'file_name': 'ojk-ppbi-7_33_pbi_2005-22092005-pbi_tentang_pencabutan_atas_pbi_nomor_517pbi2003_tentang_persyaratan_dan_tata_cara_pelaksanaan_jaminan_pemerintahan__280_pdf.pdf', 'title': 'Peraturan Bank Indonesia tentang Pencabutan atas Peraturan Bank Indonesia Nomor 5/17/PBI/2003 tentang Persyaratan dan Tata Cara Pelaksanaan Jaminan Pemerintah terhadap Kewajiban Pembayaran Bank Perkreditan Rakyat', 'sector': 'Perbankan', 'subsector': 'Bank Umum,  BPR', 'regulation_type': 'PPBI', 'regulation_number': '7/33/PBI/2005', 'effective_date': '22 September 2005', 'retrieval_score': 0.9328267574310303}<br>"
      ],
      "text/plain": [
       "<IPython.core.display.Markdown object>"
      ]
     },
     "metadata": {},
     "output_type": "display_data"
    },
    {
     "data": {
      "text/markdown": [
       "**Node ID:** 315f0d18-5912-4730-8a63-eca17c404ff4<br>**Similarity:** 0.7383741140365601<br>**Text:** - 3 - \n",
       " \n",
       "3. Undang-Undang Nomor 24 Tahun 2004 tentang Lembaga \n",
       "Penjamin Simpanan (Lembaran Negara...<br>**Metadata:** {'file_name': 'ojk-ppbi-7_33_pbi_2005-22092005-pbi_tentang_pencabutan_atas_pbi_nomor_517pbi2003_tentang_persyaratan_dan_tata_cara_pelaksanaan_jaminan_pemerintahan__280_pdf.pdf', 'title': 'Peraturan Bank Indonesia tentang Pencabutan atas Peraturan Bank Indonesia Nomor 5/17/PBI/2003 tentang Persyaratan dan Tata Cara Pelaksanaan Jaminan Pemerintah terhadap Kewajiban Pembayaran Bank Perkreditan Rakyat', 'sector': 'Perbankan', 'subsector': 'Bank Umum,  BPR', 'regulation_type': 'PPBI', 'regulation_number': '7/33/PBI/2005', 'effective_date': '22 September 2005', 'retrieval_score': 0.9303895235061646}<br>"
      ],
      "text/plain": [
       "<IPython.core.display.Markdown object>"
      ]
     },
     "metadata": {},
     "output_type": "display_data"
    },
    {
     "data": {
      "text/markdown": [
       "**Node ID:** 37c0b43a-c17c-4249-9c82-238b32d3f0cd<br>**Similarity:** 0.6666749119758606<br>**Text:** II- 2\n",
       "PP. No. : 12 Tahun 2004\n",
       "Pasal I\n",
       "Mengubah ketentuan Pasal 8 dalam Peraturan Pemerintah Nomor...<br>**Metadata:** {'file_name': 'ojk-peraturan_pemerintah-12_tahun_2004-02032004-pp_nomor_12_tahun_2004_tentang_perubahan_atas_peraturan_pemerintah_nomor_45_tahun_1995_pp_no_12_tahun_2004_pdf.pdf', 'title': 'Peraturan Pemerintah Nomor 12 Tahun 2004 tentang Perubahan atas Peraturan Pemerintah Nomor 45 Tahun 1995 tentang Penyelenggaraan Kegiatan di Bidang Pasar Modal', 'sector': 'Pasar Modal', 'subsector': 'Bursa Efek,  Perusahaan Efek,  Wakil Perusahaan Efek', 'regulation_type': 'Peraturan Pemerintah', 'regulation_number': '12 Tahun 2004', 'effective_date': '2 Maret 2004', 'retrieval_score': 0.9186574816703796}<br>"
      ],
      "text/plain": [
       "<IPython.core.display.Markdown object>"
      ]
     },
     "metadata": {},
     "output_type": "display_data"
    }
   ],
   "source": [
    "from llama_index.core.response.notebook_utils import display_source_node\n",
    "\n",
    "for node in response_agent.source_nodes:\n",
    "    display_source_node(node, show_source_metadata=True)    "
   ]
  },
  {
   "cell_type": "code",
   "execution_count": 48,
   "metadata": {},
   "outputs": [],
   "source": [
    "chat_store_string = chat_store.json()\n",
    "loaded_chat_store = SimpleChatStore.parse_raw(chat_store_string)"
   ]
  }
 ],
 "metadata": {
  "kernelspec": {
   "display_name": "chatbot",
   "language": "python",
   "name": "python3"
  },
  "language_info": {
   "codemirror_mode": {
    "name": "ipython",
    "version": 3
   },
   "file_extension": ".py",
   "mimetype": "text/x-python",
   "name": "python",
   "nbconvert_exporter": "python",
   "pygments_lexer": "ipython3",
   "version": "3.9.19"
  }
 },
 "nbformat": 4,
 "nbformat_minor": 2
}
